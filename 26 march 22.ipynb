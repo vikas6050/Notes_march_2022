{
 "cells": [
  {
   "cell_type": "code",
   "execution_count": null,
   "id": "c5fe6625",
   "metadata": {},
   "outputs": [],
   "source": [
    "c = 100\n",
    "w = c\n",
    "c = c + w//3\n",
    "w = w//3 +w%3\n",
    "print(c,w)\n",
    "c = c + w//3\n",
    "w = w//3 +w%3\n",
    "print(c,w)\n",
    "c = c + w//3\n",
    "w = w//3 +w%3\n",
    "print(c,w)\n",
    "c = c + w//3\n",
    "w = w//3 +w%3\n",
    "print(c,w)\n",
    "c = c + w//3\n",
    "w = w//3 +w%3\n",
    "print(c,w)"
   ]
  },
  {
   "cell_type": "markdown",
   "id": "a488a653",
   "metadata": {},
   "source": [
    "##### recognige digit or alphabet"
   ]
  },
  {
   "cell_type": "code",
   "execution_count": 4,
   "id": "c1bfa62a",
   "metadata": {},
   "outputs": [
    {
     "name": "stdout",
     "output_type": "stream",
     "text": [
      "dhj2\n",
      "Alphabet\n"
     ]
    }
   ],
   "source": [
    "n = input()\n",
    "\n",
    "if((n >= 'a' and n <= 'z') or (n >= 'A' and n <= 'Z')): \n",
    "    print(\"Alphabet\") \n",
    "elif(n >= '0' and n <= '9'):\n",
    "    print(\"Digit\")\n",
    "else:\n",
    "    print(\"Neither Alphabet or a Digit\")"
   ]
  },
  {
   "cell_type": "code",
   "execution_count": null,
   "id": "5dfa7bbb",
   "metadata": {},
   "outputs": [],
   "source": [
    "# alfabet= ['abcdefghijklmnopqrstuvwxyx']\n",
    "letter = ('0123456789')\n",
    "n = input('Enter')\n",
    "if n in letter:\n",
    "    print('digit is letter')\n",
    "else:\n",
    "    print('this is albhabet')"
   ]
  },
  {
   "cell_type": "code",
   "execution_count": null,
   "id": "9d33c95f",
   "metadata": {},
   "outputs": [],
   "source": [
    "c = 100\n",
    "w = c\n",
    "while w >= 3:\n",
    "    c = c + w//3\n",
    "    w = w//3 +w%3\n",
    "print(c,w)\n",
    "    "
   ]
  },
  {
   "cell_type": "code",
   "execution_count": null,
   "id": "92808174",
   "metadata": {},
   "outputs": [],
   "source": [
    "from functools import reduce\n",
    "m = [1, 2, 3]\n",
    "result1 = reduce((lambda x, y: x * y), m)\n",
    "result1"
   ]
  },
  {
   "cell_type": "code",
   "execution_count": null,
   "id": "a283d4bc",
   "metadata": {},
   "outputs": [],
   "source": [
    "n =int(input(\"enter a number:\"))\n",
    "# m = list(range(1,n-1))\n",
    "\n",
    "# fact =  m[1] *m[2] *m[3] *m[4] *m[5] \n",
    "fact = n\n",
    "if n>1:\n",
    "    \n",
    "    for i in list(range(n)):\n",
    "        print(i)\n",
    "        fact = n*(n-i)\n",
    "elif n==1: \n",
    "    print('-1')\n",
    "else:\n",
    "    print('0')\n",
    "\n",
    "\n",
    "\n",
    "# for i in range(n+1):\n",
    "    \n",
    "#     print(i[0])\n",
    "#    # fact = n\n",
    "# fact = fact*(n-m[0])\n",
    "# fact = fact*(n-m[0])\n",
    "# fact = fact*(n-3)\n",
    "# fact = fact*(n-4)\n",
    "# fact = fact*(n-5)\n",
    "# # fact = fact*(n-6)\n",
    "print(fact)"
   ]
  },
  {
   "cell_type": "code",
   "execution_count": null,
   "id": "951b8b66",
   "metadata": {},
   "outputs": [],
   "source": [
    "\n",
    "n= 6\n",
    "list1 = list(range(1,7))\n",
    " \n",
    "result1 = math.prod(list1)\n",
    "result1"
   ]
  },
  {
   "cell_type": "code",
   "execution_count": null,
   "id": "24f759a3",
   "metadata": {},
   "outputs": [],
   "source": [
    "import numpy\n",
    "n= 6\n",
    "list1 = list(range(1,7))\n",
    "\n",
    "# using numpy.prod() to get the multiplications\n",
    "result1 = numpy.prod(list1)\n",
    "result1"
   ]
  },
  {
   "cell_type": "code",
   "execution_count": null,
   "id": "d3fce188",
   "metadata": {},
   "outputs": [],
   "source": [
    "n= 6\n",
    "list1 = list(range(1,7))\n",
    " \n",
    "result1 = math.prod(list1)\n",
    "result1"
   ]
  },
  {
   "cell_type": "code",
   "execution_count": null,
   "id": "7a76061b",
   "metadata": {},
   "outputs": [],
   "source": [
    "n = 6\n",
    "fact = 1*2*3*4*5*6\n",
    "fact1 =6*5*4*3*2*1\n",
    "print(fact)\n",
    "print(fact1)"
   ]
  },
  {
   "cell_type": "code",
   "execution_count": null,
   "id": "93539384",
   "metadata": {},
   "outputs": [],
   "source": [
    "n = 8\n",
    "m = list(range(1,8))\n",
    "fact =8\n",
    "for i in m:\n",
    "    fact = fact*(n-i)\n",
    "print(fact)    "
   ]
  },
  {
   "cell_type": "code",
   "execution_count": null,
   "id": "f1c8bf29",
   "metadata": {},
   "outputs": [],
   "source": [
    "n = 6\n",
    "fact = 1*2*3*4*5*6\n",
    "fact1 = 6*5*4*3*2*1\n",
    "print(fact)\n",
    "print(fact1)"
   ]
  },
  {
   "cell_type": "code",
   "execution_count": null,
   "id": "fb263451",
   "metadata": {},
   "outputs": [],
   "source": []
  },
  {
   "cell_type": "code",
   "execution_count": null,
   "id": "9d2b83f6",
   "metadata": {},
   "outputs": [],
   "source": [
    "n = int(input('Enter a number'))\n",
    "m = list(range(1,n))\n",
    "fact =n\n",
    "if n>1:\n",
    "    for i in m:\n",
    "        fact = fact*(n-i)\n",
    "    \n",
    "elif n<1:\n",
    "    print('1')\n",
    "print(fact)    \n",
    "    "
   ]
  },
  {
   "cell_type": "code",
   "execution_count": null,
   "id": "341a6bb7",
   "metadata": {},
   "outputs": [],
   "source": [
    "   n = int(input('Enter a number'))\n",
    "m = list(range(1,n+1))\n",
    "fact =1\n",
    "if n>1:\n",
    "    for i in m:\n",
    "        fact = fact*i\n",
    "    \n",
    "elif n<1:\n",
    "    print('1')\n",
    "print(fact)    "
   ]
  },
  {
   "cell_type": "code",
   "execution_count": null,
   "id": "16838965",
   "metadata": {},
   "outputs": [],
   "source": [
    "n = int(input('Enter a number'))\n",
    "p =list(range(1,n+1))\n",
    "import math as mt\n",
    "fact= mt.prod(p)\n",
    "print(fact)"
   ]
  },
  {
   "cell_type": "code",
   "execution_count": null,
   "id": "a0d23c2f",
   "metadata": {},
   "outputs": [],
   "source": [
    "import numpy as np\n",
    "n = int(input('Enter a number'))\n",
    "p =list(range(1,n+1))\n",
    "fact= np.prod(p)\n",
    "print(fact)"
   ]
  },
  {
   "cell_type": "code",
   "execution_count": null,
   "id": "5367dd79",
   "metadata": {},
   "outputs": [],
   "source": []
  },
  {
   "cell_type": "code",
   "execution_count": null,
   "id": "cb7c3bff",
   "metadata": {},
   "outputs": [],
   "source": [
    "n= int(input('Enter a number:'))\n",
    "p = list(range(1,n+1))\n",
    "import math as mt\n",
    "fact= mt.prod(p)\n",
    "print(fact)"
   ]
  },
  {
   "cell_type": "code",
   "execution_count": null,
   "id": "aa98f5d6",
   "metadata": {},
   "outputs": [],
   "source": [
    "import numpy as np\n",
    "n= int(input('Enter a number:'))\n",
    "p = list(range(1,n+1))\n",
    "fact= np.prod(p)\n",
    "print(fact)"
   ]
  },
  {
   "cell_type": "code",
   "execution_count": null,
   "id": "39400009",
   "metadata": {},
   "outputs": [],
   "source": [
    "l= 'abcdcdcdc'\n",
    "r= 'cdc'\n",
    "m= range((len(l)-len(r))+1)\n",
    "print(m)\n",
    "k = []\n",
    "for i in m:\n",
    "        m = ''.join([l[i],l[i+1],l[i+2]])\n",
    "        k.append(m)\n",
    "print(k)        \n",
    "count=0        \n",
    "for word in k:\n",
    "    if word == r :\n",
    "        count = count+1\n",
    "print(count)        \n",
    "    \n",
    "    "
   ]
  },
  {
   "cell_type": "code",
   "execution_count": null,
   "id": "07d765f9",
   "metadata": {},
   "outputs": [],
   "source": [
    "l= 'abcdcdcdc'\n",
    "k = []\n",
    "r= 'cdc'\n",
    "m= range(len(l)-len(r))\n",
    "print(m)"
   ]
  },
  {
   "cell_type": "code",
   "execution_count": null,
   "id": "f1e636a3",
   "metadata": {},
   "outputs": [],
   "source": [
    "len(r)"
   ]
  },
  {
   "cell_type": "code",
   "execution_count": null,
   "id": "5ae617d1",
   "metadata": {},
   "outputs": [],
   "source": [
    "n=5\n",
    "if n%2 ==0 and n>=2 and n<=5:\n",
    "    print('Not Weird')\n",
    "elif  n%2 ==0 and n>=6 and n<=20:  \n",
    "    print('Weird') \n",
    "elif n%2 ==0 and n>=20:\n",
    "    print('Not Weird')\n",
    "else:\n",
    "    print('Weird')"
   ]
  },
  {
   "cell_type": "code",
   "execution_count": null,
   "id": "6ac6724e",
   "metadata": {},
   "outputs": [],
   "source": [
    "s = set([1, 2, 3, 4, 5, 6, 7, 8, 9])\n",
    "print (s)\n",
    "s.remove(5)\n",
    "print (s)\n",
    "set([1, 2, 3, 4, 6, 7, 8, 9])\n",
    "print (s.remove(4))\n",
    "print (s)\n",
    "set([1, 2, 3, 6, 7, 8, 9])\n",
    "s.remove(0)\n",
    "KeyError: 0"
   ]
  },
  {
   "cell_type": "code",
   "execution_count": null,
   "id": "037c2094",
   "metadata": {},
   "outputs": [],
   "source": [
    "\n",
    "s = {1, 2, 3, 4, 5, 6, 7, 8, 9}\n",
    "s.pop()\n",
    "print(s,1)\n",
    "s.remove(9)\n",
    "print(s,2)\n",
    "s.discard(9)\n",
    "s.discard(8)\n",
    "s.remove(7)\n",
    "s.pop()\n",
    "s.discard(6)\n",
    "s.remove(5)\n",
    "s.pop()\n",
    "s.discard(5)\n",
    "print(sum(s))"
   ]
  },
  {
   "cell_type": "code",
   "execution_count": null,
   "id": "566027d9",
   "metadata": {},
   "outputs": [],
   "source": [
    "n = int(input())\n",
    "s = set(map(int, input().split()))\n",
    "m = int(input())\n",
    "for  i in range(m):\n",
    "    attr, *kw = input().split()\n",
    "    if kw:\n",
    "        getattr(s,attr)(*(map(int, *kw)))\n",
    "    else:\n",
    "        getattr(s,attr)()\n",
    "print(sum(s))"
   ]
  },
  {
   "cell_type": "code",
   "execution_count": null,
   "id": "7a3b27f4",
   "metadata": {},
   "outputs": [],
   "source": [
    "n = int(input())\n",
    "s = set(map(int, input().split()))\n",
    "m = int(input())\n",
    "for i in range (0, m):\n",
    "    lis = m.split()\n",
    "    # s,type(s)\n",
    "    #print lis\n",
    "    if lis[0] == 'remove':\n",
    "        s.remove(lis[1])\n",
    "    if lis[0] == 'discard':\n",
    "        s.discard(lis[1])\n",
    "    if lis[0] == 'pop':\n",
    "        s = set(sorted(s, reverse = True))\n",
    "        s.pop()\n",
    "        s = set(sorted(s, reverse = True))\n",
    "\n",
    "if  len(s) != 0:\n",
    "    print(sum(map(int, s)))\n",
    "else:\n",
    "    print (\"0\")"
   ]
  },
  {
   "cell_type": "code",
   "execution_count": 1,
   "id": "105f8930",
   "metadata": {},
   "outputs": [
    {
     "name": "stdout",
     "output_type": "stream",
     "text": [
      "12\n",
      "2\n",
      "3\n",
      "4\n"
     ]
    },
    {
     "ename": "SyntaxError",
     "evalue": "invalid syntax (<string>, line 1)",
     "output_type": "error",
     "traceback": [
      "Traceback \u001b[1;36m(most recent call last)\u001b[0m:\n",
      "  File \u001b[0;32m\"C:\\Users\\vikas\\anaconda3\\lib\\site-packages\\IPython\\core\\interactiveshell.py\"\u001b[0m, line \u001b[0;32m3444\u001b[0m, in \u001b[0;35mrun_code\u001b[0m\n    exec(code_obj, self.user_global_ns, self.user_ns)\n",
      "\u001b[1;36m  File \u001b[1;32m\"C:\\Users\\vikas\\AppData\\Local\\Temp/ipykernel_6260/1225260924.py\"\u001b[1;36m, line \u001b[1;32m10\u001b[1;36m, in \u001b[1;35m<module>\u001b[1;36m\u001b[0m\n\u001b[1;33m    eval(\"s.\"+cmd+\"(\"+args+\")\")\u001b[0m\n",
      "\u001b[1;36m  File \u001b[1;32m\"<string>\"\u001b[1;36m, line \u001b[1;32m1\u001b[0m\n\u001b[1;33m    s.4()\u001b[0m\n\u001b[1;37m     ^\u001b[0m\n\u001b[1;31mSyntaxError\u001b[0m\u001b[1;31m:\u001b[0m invalid syntax\n"
     ]
    }
   ],
   "source": [
    "n = int(input())\n",
    "s = set(map(int, input().split()))\n",
    "N = int(input())\n",
    "for _ in range(N):\n",
    "    command = input().split()\n",
    "    cmd  = command[0]\n",
    "    args = \"\"\n",
    "    if len(command)>1 :\n",
    "        args = command[1]        \n",
    "    eval(\"s.\"+cmd+\"(\"+args+\")\")\n",
    "print(sum(s))"
   ]
  },
  {
   "cell_type": "code",
   "execution_count": 1,
   "id": "8813c07c",
   "metadata": {},
   "outputs": [
    {
     "name": "stdout",
     "output_type": "stream",
     "text": [
      "6\n",
      "5\n",
      "5\n",
      "5\n",
      "5\n",
      "5\n",
      "5\n",
      "5\n",
      "5\n"
     ]
    }
   ],
   "source": [
    "n = int(input())\n",
    "s = set(map(int, input().split()))\n",
    "for i in range(int(input())):\n",
    "    string = input().split()\n",
    "    if string[0] == 'pop':\n",
    "        s.pop()\n",
    "    elif string[0] == 'remove':\n",
    "        s.remove(int(string[1]))\n",
    "    elif string[0] == 'discard':\n",
    "        s.discard(int(string[1]))\n",
    "print(sum(s))"
   ]
  },
  {
   "cell_type": "code",
   "execution_count": null,
   "id": "d60c8d0e",
   "metadata": {},
   "outputs": [],
   "source": [
    "n = int(input())\n",
    "s = set(map(int, input().split()))\n",
    "q = int(input())\n",
    "for i in range(q):\n",
    "    choice = input()\n",
    "    temp = choice.split(\" \")\n",
    "    if temp[0]=='remove':\n",
    "        if int(temp[1]) in s:\n",
    "            s.remove(int(temp[1]))\n",
    "    elif temp[0]=='discard':\n",
    "        if int(temp[1]) in s:\n",
    "            s.discard(int(temp[1]))\n",
    "    elif temp[0]=='pop':\n",
    "        s.pop()\n",
    "\n",
    "\n",
    "print(sum(s))"
   ]
  },
  {
   "cell_type": "code",
   "execution_count": null,
   "id": "c9b55238",
   "metadata": {},
   "outputs": [],
   "source": [
    "x = 'len'\n",
    "x[len(x * 2) - 5]"
   ]
  },
  {
   "cell_type": "code",
   "execution_count": null,
   "id": "0382d982",
   "metadata": {},
   "outputs": [],
   "source": [
    "input_str = 'bmaunmdbraai'\n",
    "message1=input_str[0::2]\n",
    "message2=input_str[1::2]\n",
    "print(message1+\",\"+message2)"
   ]
  },
  {
   "cell_type": "code",
   "execution_count": 3,
   "id": "f67716bf",
   "metadata": {},
   "outputs": [
    {
     "name": "stdout",
     "output_type": "stream",
     "text": [
      "Please enter a character: a\n",
      "`\n",
      "b\n"
     ]
    }
   ],
   "source": [
    "K = input(\"Please enter a character: \")    \n",
    "print(chr(ord(K)-1))\n",
    "print(chr(ord(K)+1))"
   ]
  },
  {
   "cell_type": "code",
   "execution_count": 32,
   "id": "09c59d4a",
   "metadata": {},
   "outputs": [
    {
     "name": "stdout",
     "output_type": "stream",
     "text": [
      "U\n",
      "a\n",
      "U\n",
      "a\n",
      "e\n"
     ]
    },
    {
     "data": {
      "text/plain": [
       "'pgrd'"
      ]
     },
     "execution_count": 32,
     "metadata": {},
     "output_type": "execute_result"
    }
   ],
   "source": [
    "string ='UpgradUae'\n",
    "vowel = 'aeiouAEIOU'\n",
    "new_str = \"\"\n",
    "for x in string:\n",
    "    if x in vowel:\n",
    "        print(x)\n",
    "        string = string.replace(x,\"\")\n",
    "string "
   ]
  },
  {
   "cell_type": "code",
   "execution_count": 37,
   "id": "18062aef",
   "metadata": {},
   "outputs": [
    {
     "name": "stdout",
     "output_type": "stream",
     "text": [
      "3\n",
      "Valid\n"
     ]
    }
   ],
   "source": [
    "a,b,c=3,4,5\n",
    "print(a)\n",
    "if a<(b+c):\n",
    "    print('Valid')\n",
    "elif b<(a+c):\n",
    "    print('Valid') \n",
    "elif c<(a+b):\n",
    "    print('Valid') \n",
    "else:\n",
    "    print('Invalid')"
   ]
  },
  {
   "cell_type": "code",
   "execution_count": 63,
   "id": "8ba8d041",
   "metadata": {},
   "outputs": [
    {
     "name": "stdout",
     "output_type": "stream",
     "text": [
      "5*1 = 5\n",
      "5*2 = 10\n",
      "5*3 = 15\n",
      "5*4 = 20\n",
      "5*5 = 25\n",
      "5*6 = 30\n",
      "5*7 = 35\n",
      "5*8 = 40\n",
      "5*9 = 45\n",
      "5*10 = 50\n"
     ]
    }
   ],
   "source": [
    "n=5\n",
    "for i in range(1,11):\n",
    "    print('{a}*{b}'.format(a=n,b=i),'=',n*i)\n",
    "        "
   ]
  },
  {
   "cell_type": "code",
   "execution_count": 68,
   "id": "384f1d4f",
   "metadata": {},
   "outputs": [
    {
     "name": "stdout",
     "output_type": "stream",
     "text": [
      "2\n"
     ]
    }
   ],
   "source": [
    "input_string='Python Programming'\n",
    "input_char=\"P\"\n",
    "answer= input_string.lower().count(input_char.lower())\n",
    "print(answer)"
   ]
  },
  {
   "cell_type": "code",
   "execution_count": 110,
   "id": "7a0c7a9b",
   "metadata": {},
   "outputs": [
    {
     "name": "stdout",
     "output_type": "stream",
     "text": [
      "enter number3.254\n"
     ]
    },
    {
     "ename": "ValueError",
     "evalue": "invalid literal for int() with base 10: '.'",
     "output_type": "error",
     "traceback": [
      "\u001b[1;31m---------------------------------------------------------------------------\u001b[0m",
      "\u001b[1;31mValueError\u001b[0m                                Traceback (most recent call last)",
      "\u001b[1;32m~\\AppData\\Local\\Temp/ipykernel_3548/562541193.py\u001b[0m in \u001b[0;36m<module>\u001b[1;34m\u001b[0m\n\u001b[0;32m      4\u001b[0m \u001b[1;33m\u001b[0m\u001b[0m\n\u001b[0;32m      5\u001b[0m \u001b[1;32mfor\u001b[0m \u001b[0mi\u001b[0m \u001b[1;32min\u001b[0m \u001b[0ms\u001b[0m\u001b[1;33m:\u001b[0m\u001b[1;33m\u001b[0m\u001b[1;33m\u001b[0m\u001b[0m\n\u001b[1;32m----> 6\u001b[1;33m     \u001b[0mk\u001b[0m \u001b[1;33m=\u001b[0m\u001b[0mk\u001b[0m\u001b[1;33m+\u001b[0m\u001b[0mint\u001b[0m\u001b[1;33m(\u001b[0m\u001b[0mi\u001b[0m\u001b[1;33m)\u001b[0m\u001b[1;33m\u001b[0m\u001b[1;33m\u001b[0m\u001b[0m\n\u001b[0m\u001b[0;32m      7\u001b[0m \u001b[0mk\u001b[0m\u001b[1;33m\u001b[0m\u001b[1;33m\u001b[0m\u001b[0m\n",
      "\u001b[1;31mValueError\u001b[0m: invalid literal for int() with base 10: '.'"
     ]
    }
   ],
   "source": [
    "s= input('enter number')\n",
    "       \n",
    "k=0\n",
    "       \n",
    "for i in s:\n",
    "    k =k+int(i)\n",
    "k    "
   ]
  },
  {
   "cell_type": "code",
   "execution_count": 112,
   "id": "61e9f576",
   "metadata": {},
   "outputs": [
    {
     "name": "stdout",
     "output_type": "stream",
     "text": [
      "Enter Number: 12345\n"
     ]
    },
    {
     "ename": "TypeError",
     "evalue": "'int' object is not iterable",
     "output_type": "error",
     "traceback": [
      "\u001b[1;31m---------------------------------------------------------------------------\u001b[0m",
      "\u001b[1;31mTypeError\u001b[0m                                 Traceback (most recent call last)",
      "\u001b[1;32m~\\AppData\\Local\\Temp/ipykernel_3548/1672412601.py\u001b[0m in \u001b[0;36m<module>\u001b[1;34m\u001b[0m\n\u001b[0;32m      2\u001b[0m \u001b[0mk\u001b[0m \u001b[1;33m=\u001b[0m \u001b[1;36m0\u001b[0m\u001b[1;33m\u001b[0m\u001b[1;33m\u001b[0m\u001b[0m\n\u001b[0;32m      3\u001b[0m \u001b[1;33m\u001b[0m\u001b[0m\n\u001b[1;32m----> 4\u001b[1;33m \u001b[1;32mfor\u001b[0m \u001b[0mi\u001b[0m \u001b[1;32min\u001b[0m \u001b[0mnum\u001b[0m\u001b[1;33m:\u001b[0m\u001b[1;33m\u001b[0m\u001b[1;33m\u001b[0m\u001b[0m\n\u001b[0m\u001b[0;32m      5\u001b[0m     \u001b[0mk\u001b[0m \u001b[1;33m=\u001b[0m \u001b[0mk\u001b[0m \u001b[1;33m+\u001b[0m \u001b[0mint\u001b[0m\u001b[1;33m(\u001b[0m\u001b[0mi\u001b[0m\u001b[1;33m)\u001b[0m\u001b[1;33m\u001b[0m\u001b[1;33m\u001b[0m\u001b[0m\n\u001b[0;32m      6\u001b[0m \u001b[1;33m\u001b[0m\u001b[0m\n",
      "\u001b[1;31mTypeError\u001b[0m: 'int' object is not iterable"
     ]
    }
   ],
   "source": [
    "num = int(input(\"Enter Number: \"))\n",
    "k = 0\n",
    "\n",
    "for i in num:\n",
    "    k = k + int(i)\n",
    "\n",
    "print(k)"
   ]
  },
  {
   "cell_type": "code",
   "execution_count": 146,
   "id": "2b3f90fd",
   "metadata": {},
   "outputs": [
    {
     "name": "stdout",
     "output_type": "stream",
     "text": [
      "Enter Number: 12\n"
     ]
    },
    {
     "ename": "KeyboardInterrupt",
     "evalue": "",
     "output_type": "error",
     "traceback": [
      "\u001b[1;31m---------------------------------------------------------------------------\u001b[0m",
      "\u001b[1;31mKeyboardInterrupt\u001b[0m                         Traceback (most recent call last)",
      "\u001b[1;32m~\\AppData\\Local\\Temp/ipykernel_3548/2230339607.py\u001b[0m in \u001b[0;36m<module>\u001b[1;34m\u001b[0m\n\u001b[0;32m      3\u001b[0m \u001b[1;32mwhile\u001b[0m \u001b[0mnum\u001b[0m\u001b[1;33m!=\u001b[0m\u001b[1;36m0\u001b[0m\u001b[1;33m:\u001b[0m\u001b[1;33m\u001b[0m\u001b[1;33m\u001b[0m\u001b[0m\n\u001b[0;32m      4\u001b[0m     \u001b[0mdigit\u001b[0m \u001b[1;33m=\u001b[0m \u001b[0mnum\u001b[0m\u001b[1;33m-\u001b[0m\u001b[0mdigit\u001b[0m\u001b[1;33m\u001b[0m\u001b[1;33m\u001b[0m\u001b[0m\n\u001b[1;32m----> 5\u001b[1;33m     \u001b[0mdigit\u001b[0m \u001b[1;33m=\u001b[0m \u001b[0mint\u001b[0m\u001b[1;33m(\u001b[0m\u001b[0mnum\u001b[0m\u001b[1;33m%\u001b[0m\u001b[1;36m10\u001b[0m\u001b[1;33m)\u001b[0m\u001b[1;33m\u001b[0m\u001b[1;33m\u001b[0m\u001b[0m\n\u001b[0m\u001b[0;32m      6\u001b[0m     \u001b[0mdid\u001b[0m\u001b[1;33m.\u001b[0m\u001b[0mappend\u001b[0m\u001b[1;33m(\u001b[0m\u001b[0mdigit\u001b[0m\u001b[1;33m)\u001b[0m\u001b[1;33m\u001b[0m\u001b[1;33m\u001b[0m\u001b[0m\n\u001b[0;32m      7\u001b[0m \u001b[0mprint\u001b[0m\u001b[1;33m(\u001b[0m\u001b[0mdigit\u001b[0m\u001b[1;33m)\u001b[0m\u001b[1;33m\u001b[0m\u001b[1;33m\u001b[0m\u001b[0m\n",
      "\u001b[1;31mKeyboardInterrupt\u001b[0m: "
     ]
    }
   ],
   "source": [
    "num = int(input(\"Enter Number: \"))\n",
    "did= []\n",
    "while num!=0:\n",
    "    digit = num-digit\n",
    "    digit = int(num%10)\n",
    "    did.append(digit)\n",
    "print(digit)"
   ]
  },
  {
   "cell_type": "code",
   "execution_count": 4,
   "id": "943931b6",
   "metadata": {},
   "outputs": [
    {
     "name": "stdout",
     "output_type": "stream",
     "text": [
      "Enter the string:\n",
      "vikas\n"
     ]
    },
    {
     "ename": "NameError",
     "evalue": "name 'string' is not defined",
     "output_type": "error",
     "traceback": [
      "\u001b[1;31m---------------------------------------------------------------------------\u001b[0m",
      "\u001b[1;31mNameError\u001b[0m                                 Traceback (most recent call last)",
      "\u001b[1;32m~\\AppData\\Local\\Temp/ipykernel_6260/2624198991.py\u001b[0m in \u001b[0;36m<module>\u001b[1;34m\u001b[0m\n\u001b[0;32m      1\u001b[0m \u001b[0ma\u001b[0m\u001b[1;33m=\u001b[0m\u001b[0minput\u001b[0m\u001b[1;33m(\u001b[0m\u001b[1;34m\"Enter the string:\\n\"\u001b[0m\u001b[1;33m)\u001b[0m\u001b[1;33m\u001b[0m\u001b[1;33m\u001b[0m\u001b[0m\n\u001b[1;32m----> 2\u001b[1;33m \u001b[0ms\u001b[0m\u001b[1;33m=\u001b[0m\u001b[0ma\u001b[0m\u001b[1;33m.\u001b[0m\u001b[0mtranslate\u001b[0m\u001b[1;33m(\u001b[0m\u001b[0mstring\u001b[0m\u001b[1;33m)\u001b[0m\u001b[1;33m\u001b[0m\u001b[1;33m\u001b[0m\u001b[0m\n\u001b[0m\u001b[0;32m      3\u001b[0m \u001b[0mprint\u001b[0m\u001b[1;33m(\u001b[0m\u001b[0ms\u001b[0m\u001b[1;33m)\u001b[0m\u001b[1;33m\u001b[0m\u001b[1;33m\u001b[0m\u001b[0m\n",
      "\u001b[1;31mNameError\u001b[0m: name 'string' is not defined"
     ]
    }
   ],
   "source": [
    "a=input(\"Enter the string:\\n\")\n",
    "s=a.translate(string)\n",
    "print(s)"
   ]
  },
  {
   "cell_type": "code",
   "execution_count": 139,
   "id": "c47bf049",
   "metadata": {},
   "outputs": [
    {
     "ename": "KeyboardInterrupt",
     "evalue": "",
     "output_type": "error",
     "traceback": [
      "\u001b[1;31m---------------------------------------------------------------------------\u001b[0m",
      "\u001b[1;31mKeyboardInterrupt\u001b[0m                         Traceback (most recent call last)",
      "\u001b[1;32m~\\AppData\\Local\\Temp/ipykernel_3548/1753316650.py\u001b[0m in \u001b[0;36m<module>\u001b[1;34m\u001b[0m\n\u001b[0;32m      4\u001b[0m \u001b[0modd_count\u001b[0m \u001b[1;33m=\u001b[0m \u001b[1;36m0\u001b[0m\u001b[1;33m\u001b[0m\u001b[1;33m\u001b[0m\u001b[0m\n\u001b[0;32m      5\u001b[0m \u001b[1;32mwhile\u001b[0m \u001b[0mx\u001b[0m \u001b[1;33m>\u001b[0m \u001b[1;36m0\u001b[0m\u001b[1;33m:\u001b[0m\u001b[1;33m\u001b[0m\u001b[1;33m\u001b[0m\u001b[0m\n\u001b[1;32m----> 6\u001b[1;33m     \u001b[1;32mif\u001b[0m \u001b[0mx\u001b[0m \u001b[1;33m%\u001b[0m \u001b[1;36m10\u001b[0m \u001b[1;33m==\u001b[0m \u001b[1;36m0\u001b[0m\u001b[1;33m:\u001b[0m\u001b[1;33m\u001b[0m\u001b[1;33m\u001b[0m\u001b[0m\n\u001b[0m\u001b[0;32m      7\u001b[0m         \u001b[0mzero_count\u001b[0m \u001b[1;33m+=\u001b[0m \u001b[1;36m1\u001b[0m\u001b[1;33m\u001b[0m\u001b[1;33m\u001b[0m\u001b[0m\n\u001b[0;32m      8\u001b[0m     \u001b[1;32melif\u001b[0m \u001b[0mx\u001b[0m \u001b[1;33m%\u001b[0m \u001b[1;36m2\u001b[0m \u001b[1;33m==\u001b[0m \u001b[1;36m0\u001b[0m\u001b[1;33m:\u001b[0m\u001b[1;33m\u001b[0m\u001b[1;33m\u001b[0m\u001b[0m\n",
      "\u001b[1;31mKeyboardInterrupt\u001b[0m: "
     ]
    }
   ],
   "source": [
    "x=12\n",
    "zero_count = 0\n",
    "even_count = 0\n",
    "odd_count = 0\n",
    "while x > 0:\n",
    "    if x % 10 == 0:\n",
    "        zero_count += 1\n",
    "    elif x % 2 == 0:\n",
    "        even_count += 1\n",
    "    else:\n",
    "        odd_count += 1\n",
    "        x / 10\n",
    "\n",
    "print (zero_count)\n",
    "print (even_count)\n",
    "print (odd_count)\n",
    "\n"
   ]
  },
  {
   "cell_type": "code",
   "execution_count": 170,
   "id": "a11ce9bb",
   "metadata": {},
   "outputs": [
    {
     "name": "stdout",
     "output_type": "stream",
     "text": [
      "Enter the number: 12053\n",
      "Count of zeros:  1\n",
      "Count of non-zero even digits 1\n",
      "Count of odd digits 3\n"
     ]
    }
   ],
   "source": [
    "n = input('Enter the number: ')\n",
    "count_even = count_odd = count_zeros = 0\n",
    "\n",
    "for i in n:\n",
    "    if int(i)==0:\n",
    "        count_zeros+=1\n",
    "    if int(i)%2==0 and int(i)!=0:\n",
    "        count_even+=1\n",
    "    elif int(i)%2!=0:\n",
    "        count_odd+=1\n",
    "\n",
    "print('Count of zeros: ', count_zeros)\n",
    "print('Count of non-zero even digits', count_even)\n",
    "print('Count of odd digits', count_odd)\n"
   ]
  },
  {
   "cell_type": "code",
   "execution_count": 183,
   "id": "3702fda8",
   "metadata": {},
   "outputs": [
    {
     "data": {
      "text/plain": [
       "1"
      ]
     },
     "execution_count": 183,
     "metadata": {},
     "output_type": "execute_result"
    }
   ],
   "source": [
    "n=330222\n",
    "\n",
    "odd = 0\n",
    "while n>0:\n",
    "    if n%10 == 0:\n",
    "        odd =odd+1\n",
    "    n= n//10\n",
    "odd        "
   ]
  },
  {
   "cell_type": "code",
   "execution_count": 177,
   "id": "4234191c",
   "metadata": {},
   "outputs": [
    {
     "name": "stdout",
     "output_type": "stream",
     "text": [
      "Enter Number: 12053\n",
      "Number of odd digits: 3\n",
      "Number of non-zero even digits: 1\n",
      "Number of zeros: 1\n"
     ]
    }
   ],
   "source": [
    "num = input(\"Enter Number: \")\n",
    "count_even = count_odd = count_zeros = 0\n",
    "\n",
    "for i in num:\n",
    "    if int(i)==0:\n",
    "        count_zeros+=1\n",
    "    if int(i)%2==0 and int(i)!=0:\n",
    "        count_even+=1\n",
    "    elif int(i)%2!=0:\n",
    "        count_odd+=1\n",
    "print('Number of odd digits:', count_odd)\n",
    "print('Number of non-zero even digits:', count_even)\n",
    "print('Number of zeros:', count_zeros)"
   ]
  },
  {
   "cell_type": "code",
   "execution_count": 184,
   "id": "eb02b5b8",
   "metadata": {},
   "outputs": [
    {
     "name": "stdout",
     "output_type": "stream",
     "text": [
      "pgr\n"
     ]
    }
   ],
   "source": [
    "string ='Upgrad'\n",
    "new=''\n",
    "\n",
    "for i in range(len(s)):\n",
    "    if string[i] not in \"AEIOUaeiou\":\n",
    "        new=new+string[i]\n",
    "        \n",
    "print(new)"
   ]
  },
  {
   "cell_type": "code",
   "execution_count": 185,
   "id": "23074fcf",
   "metadata": {},
   "outputs": [
    {
     "name": "stdout",
     "output_type": "stream",
     "text": [
      "pgrd"
     ]
    }
   ],
   "source": [
    "\n",
    "s ='Upgrad'\n",
    "for i in s:\n",
    "    if i not in \"aeiouAEIOU\":\n",
    "        print(i,end=\"\")"
   ]
  }
 ],
 "metadata": {
  "kernelspec": {
   "display_name": "Python 3 (ipykernel)",
   "language": "python",
   "name": "python3"
  },
  "language_info": {
   "codemirror_mode": {
    "name": "ipython",
    "version": 3
   },
   "file_extension": ".py",
   "mimetype": "text/x-python",
   "name": "python",
   "nbconvert_exporter": "python",
   "pygments_lexer": "ipython3",
   "version": "3.9.7"
  }
 },
 "nbformat": 4,
 "nbformat_minor": 5
}
