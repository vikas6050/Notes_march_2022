{
 "cells": [
  {
   "cell_type": "code",
   "execution_count": 1,
   "id": "616e4766",
   "metadata": {},
   "outputs": [
    {
     "name": "stdout",
     "output_type": "stream",
     "text": [
      "[]\n"
     ]
    }
   ],
   "source": [
    "word = ['1','2','3','4']\n",
    "word[ : ] = [ ] \n",
    "print(word)"
   ]
  },
  {
   "cell_type": "code",
   "execution_count": 2,
   "id": "252c0e68",
   "metadata": {},
   "outputs": [
    {
     "name": "stdout",
     "output_type": "stream",
     "text": [
      "['five', 'four', 'one', 'six', 'three', 'two']\n",
      "['one', 'two', 'three', 'four', 'five', 'six']\n"
     ]
    }
   ],
   "source": [
    "L = ['one','two','three', 'four', 'five', 'six']\n",
    "print(sorted(L))\n",
    "print (L)"
   ]
  },
  {
   "cell_type": "code",
   "execution_count": 11,
   "id": "8559d246",
   "metadata": {},
   "outputs": [
    {
     "data": {
      "text/plain": [
       "'Pythons syntax is easy to learn & Pythons syntax is very clear'"
      ]
     },
     "execution_count": 11,
     "metadata": {},
     "output_type": "execute_result"
    }
   ],
   "source": [
    "lst=['Pythons syntax is easy to learn', 'Pythons syntax is very clear']\n",
    "string1= (lst[0]+' & '+lst[1])\n",
    "string1"
   ]
  },
  {
   "cell_type": "code",
   "execution_count": 13,
   "id": "4de6ca5c",
   "metadata": {},
   "outputs": [
    {
     "name": "stdout",
     "output_type": "stream",
     "text": [
      "Ravi\n",
      "Kumar\n",
      "003\n"
     ]
    }
   ],
   "source": [
    "input_str = 'Kumar_Ravi_003'\n",
    "first_name = input_str.split('_')[1]\n",
    "second_name = input_str.split('_')[0]\n",
    "customer_code = input_str.split('_')[2]\n",
    "print(first_name)\n",
    "print(second_name)\n",
    "print(customer_code)"
   ]
  },
  {
   "cell_type": "code",
   "execution_count": 14,
   "id": "e12dc465",
   "metadata": {},
   "outputs": [
    {
     "data": {
      "text/plain": [
       "'s'"
      ]
     },
     "execution_count": 14,
     "metadata": {},
     "output_type": "execute_result"
    }
   ],
   "source": [
    "t = (\"disco\", 12, 4.5)\n",
    "t[0][2]"
   ]
  },
  {
   "cell_type": "code",
   "execution_count": 20,
   "id": "093f6744",
   "metadata": {},
   "outputs": [
    {
     "ename": "NameError",
     "evalue": "name 'Hello' is not defined",
     "output_type": "error",
     "traceback": [
      "\u001b[1;31m---------------------------------------------------------------------------\u001b[0m",
      "\u001b[1;31mNameError\u001b[0m                                 Traceback (most recent call last)",
      "\u001b[1;32m~\\AppData\\Local\\Temp/ipykernel_2976/2018715341.py\u001b[0m in \u001b[0;36m<module>\u001b[1;34m\u001b[0m\n\u001b[1;32m----> 1\u001b[1;33m \u001b[0mx\u001b[0m \u001b[1;33m=\u001b[0m \u001b[1;33m(\u001b[0m\u001b[0mHello\u001b[0m\u001b[1;33m,\u001b[0m\u001b[1;34m'2'\u001b[0m\u001b[1;33m,\u001b[0m\u001b[1;34m'3'\u001b[0m\u001b[1;33m)\u001b[0m\u001b[1;33m\u001b[0m\u001b[1;33m\u001b[0m\u001b[0m\n\u001b[0m\u001b[0;32m      2\u001b[0m \u001b[0mprint\u001b[0m\u001b[1;33m(\u001b[0m\u001b[0mtype\u001b[0m\u001b[1;33m(\u001b[0m\u001b[0mx\u001b[0m\u001b[1;33m)\u001b[0m\u001b[1;33m)\u001b[0m\u001b[1;33m\u001b[0m\u001b[1;33m\u001b[0m\u001b[0m\n",
      "\u001b[1;31mNameError\u001b[0m: name 'Hello' is not defined"
     ]
    }
   ],
   "source": [
    "x = (Hello,'2','3')\n",
    "print(type(x))"
   ]
  },
  {
   "cell_type": "markdown",
   "id": "af486463",
   "metadata": {},
   "source": [
    "# Sample Input:\n",
    "\n",
    "('Monty Python', 'British', 1969)\n",
    "\n",
    "\n",
    "\n",
    "Sample Output:\n",
    "\n",
    "﻿('Monty Python', 'British', 1969, 'Python')\n",
    "\n"
   ]
  },
  {
   "cell_type": "code",
   "execution_count": 33,
   "id": "54d35e89",
   "metadata": {},
   "outputs": [
    {
     "data": {
      "text/plain": [
       "('Monty Python', 'British', 1969, 'Python')"
      ]
     },
     "execution_count": 33,
     "metadata": {},
     "output_type": "execute_result"
    }
   ],
   "source": [
    "input_tuple=('Monty Python', 'British', 1969)\n",
    "\n",
    "tuple_2= tuple(list(input_tuple)+['Python'])\n",
    "tuple_2"
   ]
  },
  {
   "cell_type": "markdown",
   "id": "387d0625",
   "metadata": {},
   "source": [
    "##### Imagine you have two sets: \n",
    "\n",
    "A = {0,2,4,6,8}\n",
    "\n",
    "B = {1,2,3,4,5}\n",
    "\n",
    "Set methods\n",
    "\n",
    "Union represents the total unique elements in both sets.\n",
    "\n",
    "A.union(B) → {0, 1, 2, 3, 4, 5, 6, 8}\n",
    "\n",
    "Intersection represents the elements common to both sets.\n",
    "\n",
    "A.intersection(B) → {2, 4}\n",
    "\n",
    "Difference(A-B) represents the elements present in A and not in B.\n",
    "\n",
    "A.difference(B) → {0, 6, 8}\n",
    "\n",
    "Symmetric difference represents the union of the elements A and B minus the intersection of A and B.\n",
    "\n",
    "A^B → {0, 6, 8, 1, 3, 5}"
   ]
  },
  {
   "cell_type": "code",
   "execution_count": 39,
   "id": "adba5637",
   "metadata": {},
   "outputs": [
    {
     "name": "stdout",
     "output_type": "stream",
     "text": [
      "[1, 3, 5, 7]\n"
     ]
    }
   ],
   "source": [
    "list_1 = [5, 1, 3, 4, 4, 5, 6, 7]\n",
    "\n",
    "list_2 = [3, 3, 5, 5, 1 ,7 ,2]\n",
    "# [1,3,5,7]\n",
    "answer=set(list_1) & set(list_2)\n",
    "print(list(answer))"
   ]
  },
  {
   "cell_type": "code",
   "execution_count": 40,
   "id": "69f889e3",
   "metadata": {},
   "outputs": [
    {
     "name": "stdout",
     "output_type": "stream",
     "text": [
      "4\n"
     ]
    }
   ],
   "source": [
    "nums = set([1,1,2,3,3,3,4])\n",
    "print(len(nums))"
   ]
  },
  {
   "cell_type": "code",
   "execution_count": 1,
   "id": "f2256818",
   "metadata": {},
   "outputs": [
    {
     "data": {
      "text/plain": [
       "'Product Lead'"
      ]
     },
     "execution_count": 1,
     "metadata": {},
     "output_type": "execute_result"
    }
   ],
   "source": [
    "Employee_data = { 101:['Shiva', 24, 'Content Strategist'] ,102:['Udit',25,'Content Strategist'], 103:['Sonam', 28,'Sr Manager'], 104:['Ansari',29,'Product Lead' ],105:['Huzefa',32,'Project Manager' ]}\n",
    "profession = Employee_data[104][2]\n",
    "profession"
   ]
  },
  {
   "cell_type": "code",
   "execution_count": 13,
   "id": "0b52db20",
   "metadata": {},
   "outputs": [
    {
     "name": "stdout",
     "output_type": "stream",
     "text": [
      "['Python', 'R']\n"
     ]
    }
   ],
   "source": [
    "d = {'Python':40, 'R':45}\n",
    "print(list(d.keys()))"
   ]
  },
  {
   "cell_type": "code",
   "execution_count": 15,
   "id": "a71fe515",
   "metadata": {},
   "outputs": [
    {
     "data": {
      "text/plain": [
       "'NA'"
      ]
     },
     "execution_count": 15,
     "metadata": {},
     "output_type": "execute_result"
    }
   ],
   "source": [
    "input_dict={'Name': 'Monty', 'Profession': 'Singer' }\n",
    "input_dict.get('Label', 'NA')"
   ]
  },
  {
   "cell_type": "code",
   "execution_count": 17,
   "id": "d868b75a",
   "metadata": {},
   "outputs": [
    {
     "name": "stdout",
     "output_type": "stream",
     "text": [
      "['Amazon', 'Apple', 'RJIO', 'Twitter']\n"
     ]
    }
   ],
   "source": [
    "input_dict = {'Jack Dorsey' : 'Twitter' , 'Tim Cook' : 'Apple','Jeff Bezos' : 'Amazon' ,'Mukesh Ambani' : 'RJIO'}\n",
    "b= sorted(input_dict.values())\n",
    "print(b)"
   ]
  },
  {
   "cell_type": "code",
   "execution_count": 18,
   "id": "d821588b",
   "metadata": {},
   "outputs": [
    {
     "ename": "TypeError",
     "evalue": "'str' object cannot be interpreted as an integer",
     "output_type": "error",
     "traceback": [
      "\u001b[1;31m---------------------------------------------------------------------------\u001b[0m",
      "\u001b[1;31mTypeError\u001b[0m                                 Traceback (most recent call last)",
      "\u001b[1;32m~\\AppData\\Local\\Temp/ipykernel_4560/2212570779.py\u001b[0m in \u001b[0;36m<module>\u001b[1;34m\u001b[0m\n\u001b[0;32m      1\u001b[0m \u001b[0ms\u001b[0m \u001b[1;33m=\u001b[0m \u001b[1;34m'a$b@c@d'\u001b[0m\u001b[1;33m\u001b[0m\u001b[1;33m\u001b[0m\u001b[0m\n\u001b[1;32m----> 2\u001b[1;33m \u001b[0mprint\u001b[0m\u001b[1;33m(\u001b[0m\u001b[0ms\u001b[0m\u001b[1;33m.\u001b[0m\u001b[0msplit\u001b[0m\u001b[1;33m(\u001b[0m\u001b[1;34m'@'\u001b[0m\u001b[1;33m,\u001b[0m\u001b[1;34m'$'\u001b[0m\u001b[1;33m)\u001b[0m\u001b[1;33m)\u001b[0m\u001b[1;33m\u001b[0m\u001b[1;33m\u001b[0m\u001b[0m\n\u001b[0m",
      "\u001b[1;31mTypeError\u001b[0m: 'str' object cannot be interpreted as an integer"
     ]
    }
   ],
   "source": [
    "s = 'a$b@c@d'\n",
    "print(s.split('@','$'))"
   ]
  },
  {
   "cell_type": "code",
   "execution_count": 20,
   "id": "b24d56f3",
   "metadata": {},
   "outputs": [
    {
     "name": "stdout",
     "output_type": "stream",
     "text": [
      "None\n"
     ]
    },
    {
     "data": {
      "text/plain": [
       "['black', 'blue', 'green', 'orange', 'red', 'white']"
      ]
     },
     "execution_count": 20,
     "metadata": {},
     "output_type": "execute_result"
    }
   ],
   "source": [
    "list_1 = ['red' , 'orange', 'blue', 'green', 'black', 'white']\n",
    "print(list_1.sort())\n",
    "list_1"
   ]
  },
  {
   "cell_type": "code",
   "execution_count": 21,
   "id": "b22e01a7",
   "metadata": {},
   "outputs": [
    {
     "name": "stdout",
     "output_type": "stream",
     "text": [
      "[2, 4, 7, 9]\n",
      "[9, 4, 2, 7]\n",
      "None\n",
      "[1, 3, 6, 8]\n"
     ]
    }
   ],
   "source": [
    "num_1=[9,4,2,7]\n",
    "num_2=[8,3,6,1]\n",
    "print(sorted(num_1))\n",
    "print(num_1)\n",
    "print(num_2.sort())\n",
    "print(num_2)"
   ]
  },
  {
   "cell_type": "code",
   "execution_count": 22,
   "id": "2b6beb2f",
   "metadata": {},
   "outputs": [
    {
     "name": "stdout",
     "output_type": "stream",
     "text": [
      "('paris', 'india', 'china', 'london', 'sri lanka')\n"
     ]
    }
   ],
   "source": [
    "l = ['paris','india','china','london']\n",
    "print(tuple(l+['sri lanka']))"
   ]
  },
  {
   "cell_type": "code",
   "execution_count": 23,
   "id": "bf2fcd8b",
   "metadata": {},
   "outputs": [
    {
     "name": "stdout",
     "output_type": "stream",
     "text": [
      "<class 'int'>\n"
     ]
    }
   ],
   "source": [
    "var=(5)\n",
    "print(type(var))"
   ]
  },
  {
   "cell_type": "code",
   "execution_count": 24,
   "id": "230f7f4f",
   "metadata": {},
   "outputs": [
    {
     "name": "stdout",
     "output_type": "stream",
     "text": [
      "([1, 3, 7], 'abcd', (2, 4), 6)\n"
     ]
    }
   ],
   "source": [
    "tup=([1,3,5],\"abcd\",(2,4),6)\n",
    "tup[0][2]=7\n",
    "print(tup)"
   ]
  },
  {
   "cell_type": "code",
   "execution_count": 25,
   "id": "95ea27fc",
   "metadata": {},
   "outputs": [
    {
     "name": "stdout",
     "output_type": "stream",
     "text": [
      "{1, 2, 4}\n"
     ]
    }
   ],
   "source": [
    "a= {1,2,4,5}\n",
    "b= {5,6,7,8}\n",
    "print(a-b)"
   ]
  },
  {
   "cell_type": "code",
   "execution_count": 26,
   "id": "a173ec7a",
   "metadata": {},
   "outputs": [
    {
     "ename": "TypeError",
     "evalue": "unsupported operand type(s) for *: 'set' and 'int'",
     "output_type": "error",
     "traceback": [
      "\u001b[1;31m---------------------------------------------------------------------------\u001b[0m",
      "\u001b[1;31mTypeError\u001b[0m                                 Traceback (most recent call last)",
      "\u001b[1;32m~\\AppData\\Local\\Temp/ipykernel_4560/1559327693.py\u001b[0m in \u001b[0;36m<module>\u001b[1;34m\u001b[0m\n\u001b[0;32m      1\u001b[0m \u001b[0ms\u001b[0m\u001b[1;33m=\u001b[0m \u001b[1;33m{\u001b[0m\u001b[1;36m3\u001b[0m\u001b[1;33m,\u001b[0m\u001b[1;36m4\u001b[0m\u001b[1;33m,\u001b[0m\u001b[1;36m5\u001b[0m\u001b[1;33m}\u001b[0m\u001b[1;33m\u001b[0m\u001b[1;33m\u001b[0m\u001b[0m\n\u001b[1;32m----> 2\u001b[1;33m \u001b[0ms\u001b[0m\u001b[1;33m*\u001b[0m\u001b[1;36m2\u001b[0m\u001b[1;33m\u001b[0m\u001b[1;33m\u001b[0m\u001b[0m\n\u001b[0m",
      "\u001b[1;31mTypeError\u001b[0m: unsupported operand type(s) for *: 'set' and 'int'"
     ]
    }
   ],
   "source": [
    "s= {3,4,5}\n",
    "s*2"
   ]
  },
  {
   "cell_type": "code",
   "execution_count": 27,
   "id": "e58cf1e3",
   "metadata": {},
   "outputs": [
    {
     "name": "stdout",
     "output_type": "stream",
     "text": [
      "5\n"
     ]
    }
   ],
   "source": [
    "numbers= {1,0,6,1,4,0,7}\n",
    "print(len(numbers))"
   ]
  },
  {
   "cell_type": "code",
   "execution_count": 28,
   "id": "2427678e",
   "metadata": {},
   "outputs": [
    {
     "ename": "KeyError",
     "evalue": "1",
     "output_type": "error",
     "traceback": [
      "\u001b[1;31m---------------------------------------------------------------------------\u001b[0m",
      "\u001b[1;31mKeyError\u001b[0m                                  Traceback (most recent call last)",
      "\u001b[1;32m~\\AppData\\Local\\Temp/ipykernel_4560/1794263985.py\u001b[0m in \u001b[0;36m<module>\u001b[1;34m\u001b[0m\n\u001b[0;32m      1\u001b[0m \u001b[0mdict\u001b[0m\u001b[1;33m=\u001b[0m \u001b[1;33m{\u001b[0m\u001b[1;34m'ab'\u001b[0m\u001b[1;33m:\u001b[0m\u001b[1;36m12\u001b[0m\u001b[1;33m,\u001b[0m\u001b[1;34m'cd'\u001b[0m\u001b[1;33m:\u001b[0m\u001b[1;36m34\u001b[0m\u001b[1;33m,\u001b[0m\u001b[1;34m'ef'\u001b[0m\u001b[1;33m:\u001b[0m\u001b[1;36m56\u001b[0m\u001b[1;33m}\u001b[0m\u001b[1;33m\u001b[0m\u001b[1;33m\u001b[0m\u001b[0m\n\u001b[1;32m----> 2\u001b[1;33m \u001b[0mprint\u001b[0m\u001b[1;33m(\u001b[0m\u001b[0mdict\u001b[0m\u001b[1;33m[\u001b[0m\u001b[1;36m1\u001b[0m\u001b[1;33m]\u001b[0m\u001b[1;33m)\u001b[0m\u001b[1;33m\u001b[0m\u001b[1;33m\u001b[0m\u001b[0m\n\u001b[0m",
      "\u001b[1;31mKeyError\u001b[0m: 1"
     ]
    }
   ],
   "source": [
    "dict= {'ab':12,'cd':34,'ef':56}\n",
    "print(dict[1])"
   ]
  },
  {
   "cell_type": "code",
   "execution_count": 29,
   "id": "ce2f2bae",
   "metadata": {},
   "outputs": [
    {
     "name": "stdout",
     "output_type": "stream",
     "text": [
      "dict_keys(['John', 'Alex'])\n"
     ]
    }
   ],
   "source": [
    "marks= {'John':45,'Alex':60}\n",
    "print(marks.keys())"
   ]
  },
  {
   "cell_type": "code",
   "execution_count": 30,
   "id": "5c8294f6",
   "metadata": {},
   "outputs": [
    {
     "data": {
      "text/plain": [
       "True"
      ]
     },
     "execution_count": 30,
     "metadata": {},
     "output_type": "execute_result"
    }
   ],
   "source": [
    "d = {\"Python\":40, \"R\":45}\n",
    "\"Python\" in d"
   ]
  },
  {
   "cell_type": "code",
   "execution_count": 31,
   "id": "350f5f29",
   "metadata": {},
   "outputs": [
    {
     "name": "stdout",
     "output_type": "stream",
     "text": [
      "1\n",
      "2\n",
      "3\n"
     ]
    }
   ],
   "source": [
    "input_dict= {1:\"one\",2:\"two\",3:\"three\"}\n",
    "for i in input_dict:\n",
    "  print(i)"
   ]
  },
  {
   "cell_type": "code",
   "execution_count": 32,
   "id": "2c2a865d",
   "metadata": {},
   "outputs": [
    {
     "name": "stdout",
     "output_type": "stream",
     "text": [
      "8\n"
     ]
    }
   ],
   "source": [
    "input_str=\"I love programming in python\"\n",
    "count=0\n",
    "l=['a','e','i','o','u']\n",
    "for i in input_str.lower():\n",
    "  if i in l:\n",
    "  \tcount=count+1\n",
    "print(count)"
   ]
  },
  {
   "cell_type": "markdown",
   "id": "97dc95b8",
   "metadata": {},
   "source": [
    "# Description\n",
    "Suppose you want to know the total score of the Indian cricket team in a given match. To do so, your task is to find the sum of all the scores of the Indian team players. The scores are provided as a list, with each element as an individual score of the players. Also, there is a condition that if the number of elements in the list is more than 11, then it is an invalid input and the output should be -1."
   ]
  },
  {
   "cell_type": "code",
   "execution_count": 14,
   "id": "790a220d",
   "metadata": {},
   "outputs": [
    {
     "name": "stdout",
     "output_type": "stream",
     "text": [
      "223\n"
     ]
    }
   ],
   "source": [
    "inp= [100, 80, 30, 10, 0, 1, 2, 0]\n",
    "if len(inp)<11:\n",
    "    lst= sum(inp)\n",
    "    print(lst)\n",
    "else:\n",
    "    print('-1')\n"
   ]
  },
  {
   "cell_type": "markdown",
   "id": "9cf841de",
   "metadata": {},
   "source": [
    "##### Length of list elements\n",
    "Description\n",
    "Given a list of strings, write a program to find the number of strings whose length is greater than or equal to K, where K is a positive integer.\n",
    "\n",
    "Input - List of strings and an integer\n",
    "\n",
    "﻿Output - Integer\n",
    "\n",
    "Sample Input :\n",
    "\n",
    "[Mumbai, Hyderabad, Calicut, Chennai]\n",
    "\n",
    "  9\n",
    "\n",
    "Sample Output: 1"
   ]
  },
  {
   "cell_type": "code",
   "execution_count": 17,
   "id": "b2dee945",
   "metadata": {},
   "outputs": [
    {
     "name": "stdout",
     "output_type": "stream",
     "text": [
      "1\n"
     ]
    }
   ],
   "source": [
    "lst =['Mumbai', 'Hyderabad', 'Calicut', 'Chennai']\n",
    "k=9\n",
    "count=0\n",
    "for word in lst:\n",
    "    if len(word)>=k:\n",
    "        count += 1\n",
    "print(count)        \n"
   ]
  },
  {
   "cell_type": "code",
   "execution_count": 16,
   "id": "d33671a6",
   "metadata": {},
   "outputs": [
    {
     "name": "stdout",
     "output_type": "stream",
     "text": [
      "['Python', '138', '249', 'Data']\n"
     ]
    }
   ],
   "source": [
    "lst=['Python', '123', '234','Data']\n",
    "k=15\n",
    "lst2 =[]\n",
    "for i in lst:\n",
    "    if i.isdigit():\n",
    "        i = str(int(i)+int(k))\n",
    "        lst2.append(i)\n",
    "    else:\n",
    "        lst2.append(i)\n",
    "print(lst2)    \n",
    "    "
   ]
  },
  {
   "cell_type": "markdown",
   "id": "a97aa030",
   "metadata": {},
   "source": [
    "#### Description\n",
    "Given a list of strings and an integer K, write a python code to print all the elements from the K th position till the end of the list.\n",
    "\n",
    "\n",
    "\n",
    "Note: Assume that K (a positive integer) will always be less than or equal to the length of the list\n",
    "\n",
    "\n",
    "Input - A list of strings in the first line and an integer in the second line of the input.\n",
    "\n",
    "Output - A list\n",
    "\n"
   ]
  },
  {
   "cell_type": "code",
   "execution_count": 20,
   "id": "3b3c09d0",
   "metadata": {},
   "outputs": [
    {
     "name": "stdout",
     "output_type": "stream",
     "text": [
      "['Delhi', 'Australia', 'Nigeria', 'USA', 'London', 'Canada']\n"
     ]
    }
   ],
   "source": [
    "lst=['Mumbai', 'Delhi', 'Australia', 'Nigeria', 'USA', 'London', 'Canada']\n",
    "k=2\n",
    "for i in range(len(lst)+1):\n",
    "    lst2=lst[k-1:i]\n",
    "print(lst2)    \n",
    "    \n",
    "    "
   ]
  },
  {
   "cell_type": "code",
   "execution_count": 47,
   "id": "c856fa12",
   "metadata": {},
   "outputs": [
    {
     "name": "stdout",
     "output_type": "stream",
     "text": [
      "4\n"
     ]
    }
   ],
   "source": [
    "lst='MuMbaI is in MAHArashTRA'\n",
    "\n",
    "count = 0\n",
    "lst2=[]\n",
    "for i in lst:\n",
    "    if i.isupper():\n",
    "        count+=1\n",
    "        lst2.append(count)\n",
    "\n",
    "    else:\n",
    "        count = 0\n",
    "        \n",
    "print(max(lst2))"
   ]
  },
  {
   "cell_type": "markdown",
   "id": "7203022f",
   "metadata": {},
   "source": [
    "##### Sorting list of tuples\n",
    "Description\n",
    "A class of students attempt an exam in two parts: ‘Aptitude’ and ‘Physics'. The marks of all the students are stored as a list of tuples, and each student’s marks (in Aptitude and Physics) are stored in each tuple. Your task is to write a Python program to sort the list of tuples in decreasing order of the Physics scores of the students.\n",
    "\n",
    "\n",
    "\n",
    "Note - Marks of both the subjects are ranged between 1-100, and no two students have scored the same marks in Physics.\n",
    "\n"
   ]
  },
  {
   "cell_type": "code",
   "execution_count": 4,
   "id": "82e0f4d6",
   "metadata": {},
   "outputs": [
    {
     "name": "stdout",
     "output_type": "stream",
     "text": [
      "[[45, 77], [88, 87], [67, 98], [33, 31]]\n",
      "[(67, 98), (88, 87), (45, 77), (33, 31)]\n"
     ]
    }
   ],
   "source": [
    "# Sample Input - [(45,23), (45,88), (45,98), (45,44)]\n",
    "# Sample Output - [ (45,98), (45,88), (45,44),(45,23)]\n",
    "lst=[(45,77), (88,87), (67,98), (33,31)]\n",
    "lst2=[]\n",
    "for i in lst:\n",
    "    i=list(i)\n",
    "    lst2.append(i)\n",
    "print(lst2)\n",
    "lst2.sort(key=lambda x:x[1],reverse=True)\n",
    "\n",
    "tup=[]\n",
    "for i in lst2:\n",
    "    i = tuple(i)\n",
    "    tup.append(i)\n",
    "print(tup)    "
   ]
  },
  {
   "cell_type": "markdown",
   "id": "98bd7611",
   "metadata": {},
   "source": [
    "##### Given an integer ‘n’, your task is to write a Python code to find whether ‘n’ is divisible by all its digits or not. If they divide the number, then the number ‘n’ is a happy number. Otherwise, it is a sad number.\n",
    "\n",
    "The number ‘n’ may be provided with commas. At first, you have to clean the number (by removing the commas involved) and then check whether the number is happy or sad."
   ]
  },
  {
   "cell_type": "code",
   "execution_count": 16,
   "id": "7a30159f",
   "metadata": {},
   "outputs": [
    {
     "name": "stdout",
     "output_type": "stream",
     "text": [
      "Happy Number\n"
     ]
    }
   ],
   "source": [
    "n= 8845\n",
    "while n>0:\n",
    "    if n%(n%10)==0:\n",
    "        print('Happy Number')\n",
    "        break\n",
    "        \n",
    "    else:\n",
    "        print('sad')\n",
    "        break\n",
    "    n= n//10    "
   ]
  },
  {
   "cell_type": "code",
   "execution_count": 22,
   "id": "e2709c6a",
   "metadata": {},
   "outputs": [
    {
     "name": "stdout",
     "output_type": "stream",
     "text": [
      "Sad Number\n"
     ]
    }
   ],
   "source": [
    "x= '8845'\n",
    "for i in x:\n",
    "    if int(i)!=0 and int(x)%int(i)==0:\n",
    "        print('Happy Number')\n",
    "        break\n",
    "    else:\n",
    "        print('Sad Number')\n",
    "        break\n",
    "\n"
   ]
  },
  {
   "cell_type": "code",
   "execution_count": null,
   "id": "72fa75d3",
   "metadata": {},
   "outputs": [],
   "source": [
    "n = input()\n",
    "x = n.replace(',','')\n",
    "flag = True\n",
    "\n",
    "for i in x:\n",
    "    if int(i)!=0 and int(x)%int(i)==0:\n",
    "        flag = True\n",
    "    else:\n",
    "        flag = False\n",
    "        break\n",
    "\n",
    "if flag:\n",
    "    print('Happy Number')\n",
    "else:\n",
    "    print('Sad Number')"
   ]
  },
  {
   "cell_type": "markdown",
   "id": "45a43a99",
   "metadata": {},
   "source": [
    "##### {Atletico Madrid : ’D’ , ‘Juventus’: ‘B’, ‘Chelsea’: ‘C’ }\n",
    "\n",
    "[[‘Juventus’, ‘G’], [‘Chelsea’, ‘H’]]\n",
    "\n",
    "\n",
    "\n",
    "Sample Output: {Atletico Madrid : ’D’, ‘Juventus’: ‘G’, ‘Chelsea’: ‘H’ }"
   ]
  },
  {
   "cell_type": "code",
   "execution_count": 40,
   "id": "b27365c7",
   "metadata": {},
   "outputs": [
    {
     "name": "stdout",
     "output_type": "stream",
     "text": [
      "{'Atletico Madrid': 'D ', 'Juventus': 'G', 'Chelsea': 'H'}\n"
     ]
    }
   ],
   "source": [
    "dict1= {'Atletico Madrid' : 'D ', 'Juventus': 'B', 'Chelsea': 'C' }\n",
    "list1=[['Juventus', 'G'], ['Chelsea', 'H']]\n",
    "for i in dict1.keys():\n",
    "    for j in list1:\n",
    "        if i == j[0]:\n",
    "            dict1[i] = j[1]\n",
    "print(dict1)"
   ]
  },
  {
   "cell_type": "code",
   "execution_count": 42,
   "id": "7f18c6da",
   "metadata": {},
   "outputs": [
    {
     "ename": "NameError",
     "evalue": "name 'convert_dictionary' is not defined",
     "output_type": "error",
     "traceback": [
      "\u001b[1;31m---------------------------------------------------------------------------\u001b[0m",
      "\u001b[1;31mNameError\u001b[0m                                 Traceback (most recent call last)",
      "\u001b[1;32m~\\AppData\\Local\\Temp/ipykernel_5392/2774402946.py\u001b[0m in \u001b[0;36m<module>\u001b[1;34m\u001b[0m\n\u001b[0;32m     11\u001b[0m \u001b[1;33m\u001b[0m\u001b[0m\n\u001b[0;32m     12\u001b[0m \u001b[1;31m#Write code here\u001b[0m\u001b[1;33m\u001b[0m\u001b[1;33m\u001b[0m\u001b[0m\n\u001b[1;32m---> 13\u001b[1;33m \u001b[1;32mfor\u001b[0m \u001b[0mi\u001b[0m \u001b[1;32min\u001b[0m \u001b[0mconvert_dictionary\u001b[0m\u001b[1;33m.\u001b[0m\u001b[0mkeys\u001b[0m\u001b[1;33m(\u001b[0m\u001b[1;33m)\u001b[0m\u001b[1;33m:\u001b[0m\u001b[1;33m\u001b[0m\u001b[1;33m\u001b[0m\u001b[0m\n\u001b[0m\u001b[0;32m     14\u001b[0m     \u001b[1;32mfor\u001b[0m \u001b[0mj\u001b[0m \u001b[1;32min\u001b[0m \u001b[0mconvert_list\u001b[0m\u001b[1;33m:\u001b[0m\u001b[1;33m\u001b[0m\u001b[1;33m\u001b[0m\u001b[0m\n\u001b[0;32m     15\u001b[0m         \u001b[1;32mif\u001b[0m \u001b[0mi\u001b[0m \u001b[1;33m==\u001b[0m \u001b[0mj\u001b[0m\u001b[1;33m[\u001b[0m\u001b[1;36m0\u001b[0m\u001b[1;33m]\u001b[0m\u001b[1;33m:\u001b[0m\u001b[1;33m\u001b[0m\u001b[1;33m\u001b[0m\u001b[0m\n",
      "\u001b[1;31mNameError\u001b[0m: name 'convert_dictionary' is not defined"
     ]
    }
   ],
   "source": [
    "#Take input here\n",
    "#we will take input using ast sys\n",
    "# import ast\n",
    "# #reading the input dictionary\n",
    "# input_dictionary = input()\n",
    "# convert_dictionary = ast.literal_eval(input_dictionary)\n",
    "\n",
    "# #reading the input list\n",
    "# input_list = input()\n",
    "# convert_list = ast.literal_eval(input_list)\n",
    "\n",
    "#Write code here\n",
    "for i in convert_dictionary.keys():\n",
    "    for j in convert_list:\n",
    "        if i == j[0]:\n",
    "            convert_dictionary[i] = j[1]\n",
    "print(convert_dictionary)"
   ]
  },
  {
   "cell_type": "markdown",
   "id": "839e2e07",
   "metadata": {},
   "source": [
    "##### Description\n",
    "Suppose you are working as a Marketing Lead in a company and you want to recruit new employees in your team (which already consists of 10 members) to carry out the company’s major project. You select the employees based on five parameters: A, B, C, D and E. The value of each parameter is represented on a scale of 1 to 10. The present average value of these parameters for your team is given to you in a list (in the same order). You recruit a person only if their scores do not reduce the average score of more than two parameters of your team. If they are recruited, print the output as ‘Selected’. If not, print the output as ‘Rejected’.\n",
    "\n",
    "\n",
    "\n",
    "--------------------------------------------------------------------------------------------------\n",
    "\n",
    "\n",
    "\n",
    "Input - Two lists, where the first list is the average scores of the team in the five parameters, and the second list is the scores of the new employee in all the five parameters. The parameter order is the same for both the lists, which is A, B, C, D and E.\n",
    "\n",
    "\n",
    "\n",
    "Output - String"
   ]
  },
  {
   "cell_type": "code",
   "execution_count": null,
   "id": "1fdaeccd",
   "metadata": {},
   "outputs": [],
   "source": [
    "#Take input from here\n",
    "# import ast\n",
    "\n",
    "# team = ast.literal_eval(input())\n",
    "# employee= ast.literal_eval(input())\n",
    "# #Write the code here\n",
    "count = 0\n",
    "\n",
    "for i,j in zip(team,employee):\n",
    "    if float(i)<float(j):\n",
    "        count+=1\n",
    "\n",
    "if count>=2:\n",
    "    print('Selected')\n",
    "else:\n",
    "    print('Rejected')"
   ]
  },
  {
   "cell_type": "markdown",
   "id": "ce3aa6eb",
   "metadata": {},
   "source": [
    "# Merging two dictionary"
   ]
  },
  {
   "cell_type": "code",
   "execution_count": 44,
   "id": "40dc391d",
   "metadata": {},
   "outputs": [
    {
     "ename": "SyntaxError",
     "evalue": "invalid syntax (Temp/ipykernel_5392/3225541202.py, line 8)",
     "output_type": "error",
     "traceback": [
      "\u001b[1;36m  File \u001b[1;32m\"C:\\Users\\vikas\\AppData\\Local\\Temp/ipykernel_5392/3225541202.py\"\u001b[1;36m, line \u001b[1;32m8\u001b[0m\n\u001b[1;33m    print(dict1)a\u001b[0m\n\u001b[1;37m                ^\u001b[0m\n\u001b[1;31mSyntaxError\u001b[0m\u001b[1;31m:\u001b[0m invalid syntax\n"
     ]
    }
   ],
   "source": [
    "# Solution_1: update() method\n",
    "import ast\n",
    "\n",
    "dict1 = ast.literal_eval(input())\n",
    "dict2 = ast.literal_eval(input())\n",
    "\n",
    "dict1.update(dict2)\n",
    "print(dict1)a"
   ]
  },
  {
   "cell_type": "code",
   "execution_count": null,
   "id": "b5dc6b95",
   "metadata": {},
   "outputs": [],
   "source": [
    "import ast\n",
    "\n",
    "# dict1 = ast.literal_eval(input())\n",
    "# dict2 = ast.literal_eval(input())\n",
    "\n",
    "def merge_dict(d1,d2):\n",
    "    return d1.update(d2)\n",
    "\n",
    "merge_dict(dict1,dict2)\n",
    "print(dict1)"
   ]
  },
  {
   "cell_type": "code",
   "execution_count": null,
   "id": "e828cba8",
   "metadata": {},
   "outputs": [],
   "source": []
  }
 ],
 "metadata": {
  "kernelspec": {
   "display_name": "Python 3 (ipykernel)",
   "language": "python",
   "name": "python3"
  },
  "language_info": {
   "codemirror_mode": {
    "name": "ipython",
    "version": 3
   },
   "file_extension": ".py",
   "mimetype": "text/x-python",
   "name": "python",
   "nbconvert_exporter": "python",
   "pygments_lexer": "ipython3",
   "version": "3.9.7"
  }
 },
 "nbformat": 4,
 "nbformat_minor": 5
}
