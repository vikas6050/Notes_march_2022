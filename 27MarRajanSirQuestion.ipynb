{
 "cells": [
  {
   "cell_type": "markdown",
   "id": "22edaa39",
   "metadata": {},
   "source": [
    "# Ques:1\n",
    "Write A program to accept  Four digit number from user and count zero , odd and even digits from the entered number.\n"
   ]
  },
  {
   "cell_type": "code",
   "execution_count": null,
   "id": "c5cae5ec",
   "metadata": {},
   "outputs": [],
   "source": [
    "num = 35720004\n",
    "zero=odd=even=0\n",
    "while num>0:\n",
    "    if num%10==0:\n",
    "        zero += 1\n",
    "    elif num%2==1:\n",
    "        odd = odd+1\n",
    "    else:\n",
    "        even = even+1\n",
    "    num = num//10\n",
    "print(zero)\n",
    "print(odd)\n",
    "print(even)"
   ]
  },
  {
   "cell_type": "markdown",
   "id": "1b9d89e3",
   "metadata": {},
   "source": [
    "# Ques:2\n",
    "Write a   program to accept ‘n’ numbers from user , store these numbers into an array. Find out maximum and minimum number from an Array.\n"
   ]
  },
  {
   "cell_type": "code",
   "execution_count": null,
   "id": "fe0492f9",
   "metadata": {},
   "outputs": [],
   "source": []
  },
  {
   "cell_type": "code",
   "execution_count": null,
   "id": "81d0529d",
   "metadata": {},
   "outputs": [],
   "source": [
    "import numpy as np\n",
    "n= int(input('Enter size of array:'))\n",
    "data= np.ndarray(shape=(n,),dtype=int)\n",
    "# print(\"enter %d values in array:\"%(n))\n",
    "print(\"enter{} values in array:\".format(n))\n",
    "for i in range(n):\n",
    "    data[i]=int(input('Enter value:'))\n",
    "print(data,type(data))\n",
    "print(np.max(data))\n",
    "print(np.min(data))"
   ]
  },
  {
   "cell_type": "markdown",
   "id": "52d3791b",
   "metadata": {},
   "source": [
    "# 'Question no.3'  Write a menu driven program  that shows the working of a library. The menu option should be \n",
    "--ADD BOOK INFORMATION\n",
    "--DISPLAY BOOK INFORMATION\n",
    "--LIST ALL BOOKS OF GIVEN AUTHOR \n",
    "--LIST THE COUNT OF BOOKS IN THE LIBRARY\n",
    "--EXIT\n",
    "\n"
   ]
  },
  {
   "cell_type": "code",
   "execution_count": null,
   "id": "73c36fdb",
   "metadata": {},
   "outputs": [],
   "source": [
    "# to be completed later\n",
    "  "
   ]
  },
  {
   "cell_type": "markdown",
   "id": "8d377db0",
   "metadata": {},
   "source": [
    "# Ques:4\n",
    "Write a  program to accept ‘n’ numbers from user , store these numbers into an array and sort the numbers of an array using function.\n"
   ]
  },
  {
   "cell_type": "code",
   "execution_count": null,
   "id": "2e6d9278",
   "metadata": {},
   "outputs": [],
   "source": [
    "import numpy as np\n",
    "n= int(input('Enter size of array:'))\n",
    "data= np.ndarray(shape=(n,),dtype=int)\n",
    "# print(\"enter %d values in array:\"%(n))\n",
    "print(\"enter{} values in array:\".format(n))\n",
    "for i in range(n):\n",
    "    data[i]=int(input('Enter value:'))\n",
    "print(data,type(data))\n",
    "np.sort(data)"
   ]
  },
  {
   "cell_type": "markdown",
   "id": "ef76e300",
   "metadata": {},
   "source": [
    "# Ques:5\n",
    "Write a program to accept customer details such as : Account_no, Name, Balance in Acount, Assume Maximum 20 Customer In the bank. Write a function to print the account no and name of each customer with balance below rs 100.\n"
   ]
  },
  {
   "cell_type": "code",
   "execution_count": null,
   "id": "99025fba",
   "metadata": {},
   "outputs": [],
   "source": [
    "#question number 5 to be completed later."
   ]
  },
  {
   "cell_type": "code",
   "execution_count": 1,
   "id": "96d696c5",
   "metadata": {},
   "outputs": [
    {
     "name": "stdout",
     "output_type": "stream",
     "text": [
      "Please select one of the option\n",
      "Press 1 for ADD BOOK INFORMATION\n",
      "Press 2 for DISPLAY BOOK INFORMATION\n",
      "Press 3 for LIST ALL BOOKS OF GIVEN AUTHOR\n",
      "Press 4 LIST THE COUNT OF BOOKS IN THE LIBRARY\n",
      "Press 5 EXIT\n",
      "1\n",
      "Please enter the book namevikas\n",
      "Please enter the Author/Authors namevikas\n",
      "Please enter the Publication house nameclass\n",
      "Please enter the book edition2.0\n",
      "Please enter the book price200\n",
      "Do you wish to add another book Yes/No?no\n",
      "Please select one of the option\n",
      "Press 1 for ADD BOOK INFORMATION\n",
      "Press 2 for DISPLAY BOOK INFORMATION\n",
      "Press 3 for LIST ALL BOOKS OF GIVEN AUTHOR\n",
      "Press 4 LIST THE COUNT OF BOOKS IN THE LIBRARY\n",
      "Press 5 EXIT\n",
      "3\n",
      "Please enter the author nameclass\n",
      "No book exist for the author class\n",
      "Do you wish to continue Yes/Nono\n"
     ]
    },
    {
     "ename": "KeyboardInterrupt",
     "evalue": "Interrupted by user",
     "output_type": "error",
     "traceback": [
      "\u001b[1;31m---------------------------------------------------------------------------\u001b[0m",
      "\u001b[1;31mKeyboardInterrupt\u001b[0m                         Traceback (most recent call last)",
      "\u001b[1;32m~\\AppData\\Local\\Temp/ipykernel_3136/1334643090.py\u001b[0m in \u001b[0;36m<module>\u001b[1;34m\u001b[0m\n\u001b[0;32m     45\u001b[0m                 \u001b[0mprint\u001b[0m\u001b[1;33m(\u001b[0m\u001b[1;34mf\"No book exist for the author {auth_name}\"\u001b[0m\u001b[1;33m)\u001b[0m\u001b[1;33m\u001b[0m\u001b[1;33m\u001b[0m\u001b[0m\n\u001b[0;32m     46\u001b[0m             \u001b[0msub_op\u001b[0m \u001b[1;33m=\u001b[0m \u001b[0minput\u001b[0m\u001b[1;33m(\u001b[0m\u001b[1;34m\"Do you wish to continue Yes/No\"\u001b[0m\u001b[1;33m)\u001b[0m\u001b[1;33m\u001b[0m\u001b[1;33m\u001b[0m\u001b[0m\n\u001b[1;32m---> 47\u001b[1;33m         \u001b[0moption\u001b[0m \u001b[1;33m=\u001b[0m \u001b[0mint\u001b[0m\u001b[1;33m(\u001b[0m\u001b[0minput\u001b[0m\u001b[1;33m(\u001b[0m\u001b[0mstring\u001b[0m\u001b[1;33m)\u001b[0m\u001b[1;33m)\u001b[0m\u001b[1;33m\u001b[0m\u001b[1;33m\u001b[0m\u001b[0m\n\u001b[0m\u001b[0;32m     48\u001b[0m     \u001b[1;32melif\u001b[0m \u001b[0moption\u001b[0m \u001b[1;33m==\u001b[0m \u001b[1;36m4\u001b[0m\u001b[1;33m:\u001b[0m\u001b[1;33m\u001b[0m\u001b[1;33m\u001b[0m\u001b[0m\n\u001b[0;32m     49\u001b[0m         \u001b[0mprint\u001b[0m\u001b[1;33m(\u001b[0m\u001b[1;34mf'Number of books in the library: {len(book_info.keys())}'\u001b[0m\u001b[1;33m)\u001b[0m\u001b[1;33m\u001b[0m\u001b[1;33m\u001b[0m\u001b[0m\n",
      "\u001b[1;32m~\\anaconda3\\lib\\site-packages\\ipykernel\\kernelbase.py\u001b[0m in \u001b[0;36mraw_input\u001b[1;34m(self, prompt)\u001b[0m\n\u001b[0;32m   1004\u001b[0m                 \u001b[1;34m\"raw_input was called, but this frontend does not support input requests.\"\u001b[0m\u001b[1;33m\u001b[0m\u001b[1;33m\u001b[0m\u001b[0m\n\u001b[0;32m   1005\u001b[0m             )\n\u001b[1;32m-> 1006\u001b[1;33m         return self._input_request(\n\u001b[0m\u001b[0;32m   1007\u001b[0m             \u001b[0mstr\u001b[0m\u001b[1;33m(\u001b[0m\u001b[0mprompt\u001b[0m\u001b[1;33m)\u001b[0m\u001b[1;33m,\u001b[0m\u001b[1;33m\u001b[0m\u001b[1;33m\u001b[0m\u001b[0m\n\u001b[0;32m   1008\u001b[0m             \u001b[0mself\u001b[0m\u001b[1;33m.\u001b[0m\u001b[0m_parent_ident\u001b[0m\u001b[1;33m[\u001b[0m\u001b[1;34m\"shell\"\u001b[0m\u001b[1;33m]\u001b[0m\u001b[1;33m,\u001b[0m\u001b[1;33m\u001b[0m\u001b[1;33m\u001b[0m\u001b[0m\n",
      "\u001b[1;32m~\\anaconda3\\lib\\site-packages\\ipykernel\\kernelbase.py\u001b[0m in \u001b[0;36m_input_request\u001b[1;34m(self, prompt, ident, parent, password)\u001b[0m\n\u001b[0;32m   1049\u001b[0m             \u001b[1;32mexcept\u001b[0m \u001b[0mKeyboardInterrupt\u001b[0m\u001b[1;33m:\u001b[0m\u001b[1;33m\u001b[0m\u001b[1;33m\u001b[0m\u001b[0m\n\u001b[0;32m   1050\u001b[0m                 \u001b[1;31m# re-raise KeyboardInterrupt, to truncate traceback\u001b[0m\u001b[1;33m\u001b[0m\u001b[1;33m\u001b[0m\u001b[0m\n\u001b[1;32m-> 1051\u001b[1;33m                 \u001b[1;32mraise\u001b[0m \u001b[0mKeyboardInterrupt\u001b[0m\u001b[1;33m(\u001b[0m\u001b[1;34m\"Interrupted by user\"\u001b[0m\u001b[1;33m)\u001b[0m \u001b[1;32mfrom\u001b[0m \u001b[1;32mNone\u001b[0m\u001b[1;33m\u001b[0m\u001b[1;33m\u001b[0m\u001b[0m\n\u001b[0m\u001b[0;32m   1052\u001b[0m             \u001b[1;32mexcept\u001b[0m \u001b[0mException\u001b[0m\u001b[1;33m:\u001b[0m\u001b[1;33m\u001b[0m\u001b[1;33m\u001b[0m\u001b[0m\n\u001b[0;32m   1053\u001b[0m                 \u001b[0mself\u001b[0m\u001b[1;33m.\u001b[0m\u001b[0mlog\u001b[0m\u001b[1;33m.\u001b[0m\u001b[0mwarning\u001b[0m\u001b[1;33m(\u001b[0m\u001b[1;34m\"Invalid Message:\"\u001b[0m\u001b[1;33m,\u001b[0m \u001b[0mexc_info\u001b[0m\u001b[1;33m=\u001b[0m\u001b[1;32mTrue\u001b[0m\u001b[1;33m)\u001b[0m\u001b[1;33m\u001b[0m\u001b[1;33m\u001b[0m\u001b[0m\n",
      "\u001b[1;31mKeyboardInterrupt\u001b[0m: Interrupted by user"
     ]
    },
    {
     "name": "stdout",
     "output_type": "stream",
     "text": [
      "Please select one of the option\n",
      "Press 1 for ADD BOOK INFORMATION\n",
      "Press 2 for DISPLAY BOOK INFORMATION\n",
      "Press 3 for LIST ALL BOOKS OF GIVEN AUTHOR\n",
      "Press 4 LIST THE COUNT OF BOOKS IN THE LIBRARY\n",
      "Press 5 EXIT\n",
      "5\n"
     ]
    }
   ],
   "source": [
    "string = \"\"\"Please select one of the option\n",
    "Press 1 for ADD BOOK INFORMATION\n",
    "Press 2 for DISPLAY BOOK INFORMATION\n",
    "Press 3 for LIST ALL BOOKS OF GIVEN AUTHOR\n",
    "Press 4 LIST THE COUNT OF BOOKS IN THE LIBRARY\n",
    "Press 5 EXIT\\n\"\"\"\n",
    "option = int(input(string))\n",
    "book_info = {}\n",
    "while( option != 5):\n",
    "    if option == 1:\n",
    "        sub_op = 'yes'\n",
    "        while sub_op.lower() == 'yes':\n",
    "            book_name = input(\"Please enter the book name\")\n",
    "            author_name = input(\"Please enter the Author/Authors name\")\n",
    "            pub_name = input(\"Please enter the Publication house name\")\n",
    "            edition = input(\"Please enter the book edition\")\n",
    "            book_price = input(\"Please enter the book price\")\n",
    "            book_info[book_name] = {'author_name': author_name,'pub_name':pub_name,'edition':edition,'book_price':book_price}\n",
    "            sub_op = input(\"Do you wish to add another book Yes/No?\")\n",
    "        option = int(input(string))\n",
    "    elif option == 2:\n",
    "        sub_op = 'yes'\n",
    "        while sub_op.lower() == 'yes':\n",
    "            book_name = input(\"Please enter the book name\")\n",
    "            if book_name in book_info.keys():\n",
    "                print(f\"Author Name is {book_info[book_name]['author_name']}\")\n",
    "                print(f\"Publication is {book_info[book_name]['pub_name']}\")\n",
    "                print(f\"Edition of the book is {book_info[book_name]['edition']}\")\n",
    "                print(f\"Price of the book is {book_info[book_name]['book_price']}\")\n",
    "                sub_op = input(\"Do you wish to continue Yes/No\")\n",
    "            else:\n",
    "                print(\"Sorry, no such book exist\")\n",
    "                sub_op = input(\"Do you wish to continue Yes/No\")\n",
    "        option = int(input(string))\n",
    "    elif option == 3:\n",
    "        sub_op = 'yes'\n",
    "        while sub_op.lower() == 'yes':\n",
    "            auth_name = input(\"Please enter the author name\")\n",
    "            book_name = ''\n",
    "            for key in book_info.keys():\n",
    "                if auth_name == book_info[key]['author_name']:\n",
    "                    book_name = key\n",
    "                    print(book_name)\n",
    "            if book_name == '':\n",
    "                print(f\"No book exist for the author {auth_name}\")\n",
    "            sub_op = input(\"Do you wish to continue Yes/No\")\n",
    "        option = int(input(string))\n",
    "    elif option == 4:\n",
    "        print(f'Number of books in the library: {len(book_info.keys())}')\n",
    "        option = int(input(string))"
   ]
  },
  {
   "cell_type": "code",
   "execution_count": null,
   "id": "f8e39b90",
   "metadata": {},
   "outputs": [],
   "source": [
    "# Python program to create Bankaccount class\n",
    "# with both a deposit() and a withdraw() function\n",
    "class Bank_Account:\n",
    "    def __init__(self):\n",
    "        self.balance=0\n",
    "        print(\"Hello!!! Welcome to the Deposit & Withdrawal Machine\")\n",
    " \n",
    "    def deposit(self):\n",
    "        amount=float(input(\"Enter amount to be Deposited: \"))\n",
    "        self.balance += amount\n",
    "        print(\"\\n Amount Deposited:\",amount)\n",
    " \n",
    "    def withdraw(self):\n",
    "        amount = float(input(\"Enter amount to be Withdrawn: \"))\n",
    "        if self.balance>=amount:\n",
    "            self.balance-=amount\n",
    "            print(\"\\n You Withdrew:\", amount)\n",
    "        else:\n",
    "            print(\"\\n Insufficient balance  \")\n",
    " \n",
    "    def display(self):\n",
    "        print(\"\\n Net Available Balance=\",self.balance)\n",
    " \n",
    "# Driver code\n",
    "  \n",
    "# creating an object of class\n",
    "s = Bank_Account()\n",
    "  \n",
    "# Calling functions with that class object\n",
    "s.deposit()\n",
    "s.withdraw()\n",
    "s.display()"
   ]
  },
  {
   "cell_type": "markdown",
   "id": "8069b2b2",
   "metadata": {},
   "source": [
    "# Ques:6\n",
    "Write a program to accept 5 names from user and store these names into an array sort these array element in alphabetical order.\n"
   ]
  },
  {
   "cell_type": "code",
   "execution_count": 2,
   "id": "e3094b09",
   "metadata": {},
   "outputs": [
    {
     "name": "stdout",
     "output_type": "stream",
     "text": [
      "vik\n",
      "pra\n",
      "abh\n",
      "lov\n",
      "prt\n",
      "['vik', 'pra', 'abh', 'lov', 'prt']\n",
      "['vik' 'pra' 'abh' 'lov' 'prt'] <class 'numpy.ndarray'>\n",
      "['abh' 'lov' 'pra' 'prt' 'vik']\n"
     ]
    }
   ],
   "source": [
    "import numpy as np\n",
    "n=5\n",
    "\n",
    "\n",
    "# n = int(input(\"Enter number of elements : \"))\n",
    "lst = [ ]\n",
    "for i in range(0, n):\n",
    "    ele = input()\n",
    "    lst.append(ele)\n",
    "     \n",
    "print(lst)\n",
    "data= np.array(lst)\n",
    "# data= np.ndarray(shape=(n,),dtype=str)\n",
    "print(data,type(data))\n",
    "data.sort()\n",
    "print(data)"
   ]
  },
  {
   "cell_type": "markdown",
   "id": "47b1e467",
   "metadata": {},
   "source": [
    "Ques:7\n",
    "Write a program to calculate the sum of digits of a given number.\n"
   ]
  },
  {
   "cell_type": "code",
   "execution_count": null,
   "id": "7e5e1499",
   "metadata": {},
   "outputs": [],
   "source": [
    "num =12356\n",
    "digit=0\n",
    "while num>0:\n",
    "    digit=digit+num%10\n",
    "    num=num//10\n",
    "print(digit)    \n",
    "    "
   ]
  },
  {
   "cell_type": "markdown",
   "id": "04fee231",
   "metadata": {},
   "source": [
    "# Ques:8\n",
    "Write a program to swap the values of two variables using Call by Reference.\n"
   ]
  },
  {
   "cell_type": "code",
   "execution_count": null,
   "id": "be44df6b",
   "metadata": {},
   "outputs": [],
   "source": [
    "# Python code to demonstrate\n",
    "# call by value\n",
    " \n",
    "string = \"Geeks\"\n",
    "def test(string):\n",
    "     \n",
    "    string = \"GeeksforGeeks\"\n",
    "    print(\"Inside Function:\", string)\n",
    "     \n",
    "# Driver's code\n",
    "test(string)\n",
    "print(\"Outside Function:\", string)"
   ]
  },
  {
   "cell_type": "code",
   "execution_count": null,
   "id": "99e81396",
   "metadata": {},
   "outputs": [],
   "source": [
    "# Python code to demonstrate\n",
    "# call by reference\n",
    "mylist = [10,20,30,40] \n",
    "def add_more(list):\n",
    "    list.append(50)\n",
    "    print(\"Inside Function\", list)\n",
    " \n",
    "# Driver's code\n",
    "\n",
    "add_more(mylist)\n",
    "print(\"Outside Function:\", mylist)"
   ]
  },
  {
   "cell_type": "code",
   "execution_count": null,
   "id": "4d07b483",
   "metadata": {},
   "outputs": [],
   "source": []
  },
  {
   "cell_type": "code",
   "execution_count": null,
   "id": "17ef05fc",
   "metadata": {},
   "outputs": [],
   "source": [
    "#question no.8 to be completed later using call by reference method\n"
   ]
  },
  {
   "cell_type": "markdown",
   "id": "78e33a36",
   "metadata": {},
   "source": [
    "Ques:9\n",
    "Write a program to calculate the sum of first digit and last digit of a given number\n"
   ]
  },
  {
   "cell_type": "code",
   "execution_count": null,
   "id": "b7d0b663",
   "metadata": {},
   "outputs": [],
   "source": [
    "num =82356\n",
    "lastdigit=num%10\n",
    "while num>0:\n",
    "    digit=num%10\n",
    "    num=num//10\n",
    "print(lastdigit+digit)\n"
   ]
  },
  {
   "cell_type": "markdown",
   "id": "1a5631cf",
   "metadata": {},
   "source": [
    "Ques:10\n",
    "Write a program to accept a string from user , delete all vowels from the string and display the result.\n"
   ]
  },
  {
   "cell_type": "code",
   "execution_count": 1,
   "id": "55d2494e",
   "metadata": {},
   "outputs": [
    {
     "name": "stdout",
     "output_type": "stream",
     "text": [
      "viks\n"
     ]
    }
   ],
   "source": [
    "string = 'vikas'\n",
    "vowels= 'aeiouAEIOU'\n",
    "# newstring= \"\"\n",
    "for x in string:\n",
    "    if x in vowels:\n",
    "    \n",
    "        s=string.replace(x,'')\n",
    "print(s)        "
   ]
  },
  {
   "cell_type": "markdown",
   "id": "efc96143",
   "metadata": {},
   "source": [
    "Ques:11\n",
    "Write a program to accept a string value from the user and accept a char value from the user and and find out the total occurrence of char value in the string value.\n"
   ]
  },
  {
   "cell_type": "code",
   "execution_count": null,
   "id": "011a5f4f",
   "metadata": {},
   "outputs": [],
   "source": [
    "input_string='Python Programming'\n",
    "input_char=\"P\"\n",
    "answer= input_string.lower().count(input_char.lower())\n",
    "print(answer)"
   ]
  },
  {
   "cell_type": "code",
   "execution_count": null,
   "id": "1b392599",
   "metadata": {},
   "outputs": [],
   "source": [
    "s ='Upgrad'\n",
    "for i in s:\n",
    "    if i not in \"aeiouAEIOU\":\n",
    "        print(i,end=\"\")"
   ]
  },
  {
   "cell_type": "markdown",
   "id": "c4b1029b",
   "metadata": {},
   "source": [
    "# Ques:12\n",
    "Write a  program to accept a sentence from the user and reverse its each word.\n"
   ]
  },
  {
   "cell_type": "code",
   "execution_count": null,
   "id": "9ea94e04",
   "metadata": {},
   "outputs": [],
   "source": [
    "s = \"i like this program very much\"\n",
    "words = s.split(' ')\n",
    "string =[]\n",
    "for word in words:\n",
    "    string.insert(0, word)\n",
    "print(\" \".join(string))"
   ]
  },
  {
   "cell_type": "markdown",
   "id": "88461805",
   "metadata": {},
   "source": [
    "# Ques:13\n",
    "Write a program to calculate sum of elements of M*N matrix.\n"
   ]
  },
  {
   "cell_type": "code",
   "execution_count": null,
   "id": "49d75ff6",
   "metadata": {},
   "outputs": [],
   "source": [
    "n = int(input(\"Enter the number of rows:\")) \n",
    "m = int(input(\"Enter the number of columns:\")) \n",
    "  \n",
    "matrix = [] \n",
    "\n",
    "print(\"Enter values in matrix :\") \n",
    "\n",
    "# For user input \n",
    "for i in range(n):\n",
    "    data =[] \n",
    "    for j in range(m):\n",
    "         data.append(int(input())) \n",
    "    matrix.append(data) \n",
    "\n",
    "# For printing the matrix \n",
    "for i in range(n): \n",
    "    for j in range(m): \n",
    "        print(matrix[i][j], end = \" \") \n",
    "    print()\n",
    "\n",
    "\n",
    "# For printing row wise sum \n",
    "for i in range(n):\n",
    "    sum=0\n",
    "    for j in range(m):\n",
    "        sum = sum + matrix[i][j]+matrix[i-1][j-1]\n",
    "        \n",
    "print('Sum of matrix',sum)        \n",
    "#     print('Sum of row',i+1,':',sum)\n",
    "    \n",
    "# note if we remove i-1 and j-1 from the above equation then we can calculate sum of \\\\\n",
    "#each row individually\n",
    "\n",
    "#     sum = 0\n",
    "# #     for j in range(m): \n",
    "#          \n"
   ]
  },
  {
   "cell_type": "markdown",
   "id": "b4cf5d5c",
   "metadata": {},
   "source": [
    "# Ques:14\n",
    "Write a program to accept ‘n’ numbers from user and store these numbers into an array and count the number of occurrences of each number.\n"
   ]
  },
  {
   "cell_type": "code",
   "execution_count": 56,
   "id": "30b8bf36",
   "metadata": {},
   "outputs": [
    {
     "name": "stdout",
     "output_type": "stream",
     "text": [
      "Enter size of array:10\n",
      "enter10 values in array:\n",
      "Enter value:1\n",
      "Enter value:2\n",
      "Enter value:2\n",
      "Enter value:3\n",
      "Enter value:3\n",
      "Enter value:3\n",
      "Enter value:4\n",
      "Enter value:4\n",
      "Enter value:5\n",
      "Enter value:6\n",
      "[1 2 2 3 3 3 4 4 5 6]\n"
     ]
    },
    {
     "data": {
      "text/plain": [
       "3    3\n",
       "2    2\n",
       "4    2\n",
       "1    1\n",
       "5    1\n",
       "6    1\n",
       "dtype: int64"
      ]
     },
     "execution_count": 56,
     "metadata": {},
     "output_type": "execute_result"
    }
   ],
   "source": [
    "import numpy as np\n",
    "import pandas as pd\n",
    "n= int(input('Enter size of array:'))\n",
    "data= np.ndarray(shape=(n,),dtype=int)\n",
    "# print(\"enter %d values in array:\"%(n))\n",
    "print(\"enter{} values in array:\".format(n))\n",
    "for i in range(n):\n",
    "    data[i]=int(input('Enter value:'))\n",
    "print(data)\n",
    "pd.Series(data).value_counts()"
   ]
  },
  {
   "cell_type": "markdown",
   "id": "e6a8a603",
   "metadata": {},
   "source": [
    "# Ques:15\n",
    "Write a program to calculate  X(Y+Z) .\n"
   ]
  },
  {
   "cell_type": "code",
   "execution_count": 57,
   "id": "236c3cbb",
   "metadata": {},
   "outputs": [
    {
     "data": {
      "text/plain": [
       "27"
      ]
     },
     "execution_count": 57,
     "metadata": {},
     "output_type": "execute_result"
    }
   ],
   "source": [
    "def calculate(X,Y,Z):\n",
    "    return X*(Y+Z)\n",
    "calculate(3,4,5)"
   ]
  },
  {
   "cell_type": "markdown",
   "id": "40860923",
   "metadata": {},
   "source": [
    "# Ques:16\n",
    "Write a Program to Accept character and display its Ascii value and its Next and Previous Character. \n"
   ]
  },
  {
   "cell_type": "code",
   "execution_count": 68,
   "id": "2d8241ad",
   "metadata": {},
   "outputs": [
    {
     "name": "stdout",
     "output_type": "stream",
     "text": [
      "Please enter a character: N\n",
      "The Ascii value of N is 78\n",
      "The previous Character of N is M\n",
      "The next Character of N is O\n"
     ]
    }
   ],
   "source": [
    "K = input(\"Please enter a character: \")\n",
    "s= ord(K)\n",
    "print('The Ascii value of {} is'.format(K),s)\n",
    "print('The previous Character of {} is'.format(K),chr(ord(K)-1))\n",
    "print('The next Character of {} is'.format(K),chr(ord(K)+1))"
   ]
  },
  {
   "cell_type": "markdown",
   "id": "46c7d98d",
   "metadata": {},
   "source": [
    "# Ques:17\n",
    "Write a Program to accept  ‘n’ numbers and store all prime numbers in an array and display the array.\n"
   ]
  },
  {
   "cell_type": "code",
   "execution_count": 87,
   "id": "438e3c01",
   "metadata": {},
   "outputs": [
    {
     "name": "stdout",
     "output_type": "stream",
     "text": [
      "Enter size of array:3\n",
      "enter3 values in array:\n",
      "Enter value:2\n",
      "Enter value:5\n",
      "Enter value:9\n",
      "[2 5 9]\n",
      "Prime numbers are : 2 5 "
     ]
    }
   ],
   "source": [
    "\n",
    "n= int(input('Enter size of array:'))\n",
    "data= np.ndarray(shape=(n,),dtype=int)\n",
    "print(\"enter{} values in array:\".format(n))\n",
    "for i in range(n):\n",
    "    data[i]=int(input('Enter value:'))\n",
    "print(data)\n",
    "\n",
    "print(\"Prime numbers are :\", end=\" \")\n",
    "\n",
    "for i in data:\n",
    "    num = i\n",
    "    j = 2\n",
    "    f = 1\n",
    "    while j < num:\n",
    "        if num % j == 0:\n",
    "            f = 0\n",
    "            break\n",
    "        j = j + 1\n",
    "\n",
    "    if f == 1:\n",
    "        print(num, end=\" \")"
   ]
  },
  {
   "cell_type": "code",
   "execution_count": null,
   "id": "3175586e",
   "metadata": {},
   "outputs": [],
   "source": []
  },
  {
   "cell_type": "markdown",
   "id": "73dae08c",
   "metadata": {},
   "source": [
    "\n",
    "# Ques:18\n",
    "Write a program to calculate the x to the power y without using Standard functions.\n"
   ]
  },
  {
   "cell_type": "code",
   "execution_count": 150,
   "id": "ce4fcf5f",
   "metadata": {},
   "outputs": [
    {
     "data": {
      "text/plain": [
       "27"
      ]
     },
     "execution_count": 150,
     "metadata": {},
     "output_type": "execute_result"
    }
   ],
   "source": [
    "x=3\n",
    "y=3\n",
    "result = 1\n",
    "if y>0:\n",
    "    while (y > 0):\n",
    "        result = result * x\n",
    "        y = y -1\n",
    "elif y<0:\n",
    "    while (y != 0):\n",
    "        result = result /  x\n",
    "        y = y +1\n",
    "else:\n",
    "    result=1\n",
    "\n",
    "result\n",
    "    "
   ]
  },
  {
   "cell_type": "markdown",
   "id": "1230db9b",
   "metadata": {},
   "source": [
    "# Ques:19\n",
    "Write a  program to accept three sides of a triangle as input and print whether the Trangle is valid or Not.\n",
    "(The trangle is valid, if sum of each of the two sides is greater then the third side.)\n"
   ]
  },
  {
   "cell_type": "code",
   "execution_count": 155,
   "id": "ec52e01f",
   "metadata": {},
   "outputs": [
    {
     "name": "stdout",
     "output_type": "stream",
     "text": [
      "Invalid\n"
     ]
    }
   ],
   "source": [
    "\n",
    "a,b,c=8,1,5\n",
    "\n",
    "a=float(a)\n",
    "b=float(b)\n",
    "c=float(c)\n",
    "\n",
    "if b+c>a and a+c>b and a+b>c:\n",
    "    print(\"Valid\")\n",
    "\n",
    "else:\n",
    "    print(\"Invalid\")"
   ]
  },
  {
   "cell_type": "markdown",
   "id": "93b52d06",
   "metadata": {},
   "source": [
    "# Ques:20\n",
    "Write a program to accept string from the user and replace all occurrences of character ‘a’ by ‘*’ symbol.\n"
   ]
  },
  {
   "cell_type": "code",
   "execution_count": 174,
   "id": "3acf89af",
   "metadata": {},
   "outputs": [
    {
     "name": "stdout",
     "output_type": "stream",
     "text": [
      "**k*sh\n"
     ]
    }
   ],
   "source": [
    "string = 'Aakash'\n",
    "s1= 'aA'\n",
    "for x in string:\n",
    "    if x in s1:\n",
    "        string=string.replace(x,'*')\n",
    "print(string)    "
   ]
  },
  {
   "cell_type": "markdown",
   "id": "30d62f1d",
   "metadata": {},
   "source": [
    "# Ques:21\n",
    "Write a  program to create student structure having fields roll_no, stud_name, mark1, mark2,mark3. Calculate the total and average of marks and arrange the records in  decending order of marks.\n"
   ]
  },
  {
   "cell_type": "code",
   "execution_count": 191,
   "id": "38d1368a",
   "metadata": {},
   "outputs": [
    {
     "name": "stdout",
     "output_type": "stream",
     "text": [
      "enter the no of students:\n",
      "2\n",
      "enter the rollno:\n",
      "21\n",
      "enter the name:\n",
      "vikas\n",
      "enter the marks of the first subject:\n",
      "20\n",
      "enter the marks of the 2nd subject:\n",
      "20\n",
      "enter the marks of the 3rd subject:\n",
      "30\n",
      "the total marks of the student is :\n",
      "\n",
      "70\n",
      "the average marks of the student:\n",
      "\n",
      "23.333333333333332\n",
      "enter the rollno:\n",
      "33\n",
      "enter the name:\n",
      "jk\n",
      "enter the marks of the first subject:\n",
      "20\n",
      "enter the marks of the 2nd subject:\n",
      "12\n",
      "enter the marks of the 3rd subject:\n",
      "14\n",
      "the total marks of the student is :\n",
      "\n",
      "46\n",
      "the average marks of the student:\n",
      "\n",
      "15.333333333333334\n",
      "the descending order of marks is :\n",
      "\n",
      "[30, 20, 20, 20, 14, 12]\n",
      "the names and roll no of students are:\n",
      "\n",
      "[21, 'vikas', 33, 'jk']\n"
     ]
    }
   ],
   "source": [
    "lists=[]\n",
    "list1=[]\n",
    "student=int(input(\"enter the no of students:\\n\"))\n",
    "for x in range(student):\n",
    "    roll_no=int(input(\"enter the rollno:\\n\"))\n",
    "    lists.append(roll_no)\n",
    "    stud_name=input(\"enter the name:\\n\")\n",
    "    lists.append(stud_name)\n",
    "    marks1=int(input(\"enter the marks of the first subject:\\n\"))\n",
    "    list1.append(marks1)\n",
    "    marks2=int(input(\"enter the marks of the 2nd subject:\\n\"))\n",
    "    list1.append(marks2)\n",
    "    marks3=int(input(\"enter the marks of the 3rd subject:\\n\"))\n",
    "    list1.append(marks3)\n",
    "    Total=marks1+marks2+marks3\n",
    "    Average=Total/3\n",
    "    print(\"the total marks of the student is :\\n\")\n",
    "    print(Total)\n",
    "    print(\"the average marks of the student:\\n\")\n",
    "    print(Average)\n",
    "list1.sort(reverse=True)\n",
    "print(\"the descending order of marks is :\\n\")\n",
    "print(list1)\n",
    "print(\"the names and roll no of students are:\\n\")\n",
    "print(lists)"
   ]
  },
  {
   "cell_type": "markdown",
   "id": "c0055634",
   "metadata": {},
   "source": [
    "# Ques:22\n",
    "Write a program to accept Book Details o f’n’ books as book_title,author, publisher and cost. Assign the accession number to each book in increasing order Display thease details as .\n",
    "--Book s of a specific author\n",
    "--Books by a specific publisher\n",
    "--All Books costing rs 500 and above.\n",
    "All Books.\n"
   ]
  },
  {
   "cell_type": "code",
   "execution_count": null,
   "id": "78e1ca4c",
   "metadata": {},
   "outputs": [],
   "source": []
  },
  {
   "cell_type": "markdown",
   "id": "5946e098",
   "metadata": {},
   "source": [
    "# Ques:23\n",
    "Write a menu driven program  to perform the following operations on string using standard library functions\n",
    "--Calculate length of string\n",
    "--Reverse a given string\n",
    "--Concatenation of one string to another\n",
    "--Copy one String into anothe\n"
   ]
  },
  {
   "cell_type": "code",
   "execution_count": 4,
   "id": "fadcfa98",
   "metadata": {},
   "outputs": [],
   "source": [
    "# question no. 23 to be done later"
   ]
  },
  {
   "cell_type": "markdown",
   "id": "01f0aecb",
   "metadata": {},
   "source": [
    "#  Qs no. 24 write a programme to remove vowel typycal method"
   ]
  },
  {
   "cell_type": "code",
   "execution_count": 3,
   "id": "4de32aeb",
   "metadata": {},
   "outputs": [
    {
     "name": "stdout",
     "output_type": "stream",
     "text": [
      "Enter the string:\n",
      "vikas\n",
      "vks\n"
     ]
    }
   ],
   "source": [
    "string = str.maketrans(dict.fromkeys('aeiouAEIOU'))\n",
    "a=input(\"Enter the string:\\n\")\n",
    "s=a.translate(string)\n",
    "print(s)"
   ]
  },
  {
   "cell_type": "markdown",
   "id": "03181a8b",
   "metadata": {},
   "source": [
    "# qs no. 25 Write a  program to accept a sentence from the user and reverse its each word.\n",
    "\n",
    "\"\"\""
   ]
  },
  {
   "cell_type": "code",
   "execution_count": 13,
   "id": "d69d8c89",
   "metadata": {},
   "outputs": [
    {
     "name": "stdout",
     "output_type": "stream",
     "text": [
      "Enter the sentence you want to reverse by each word:\n",
      "i love python\n",
      "reverse by each word is:\n",
      " nohtyp evol i\n",
      "python love i "
     ]
    }
   ],
   "source": [
    "\n",
    "\n",
    "sentence =input(\"Enter the sentence you want to reverse by each word:\\n\")\n",
    "print(\"reverse by each word is:\\n\",sentence[::-1])\n",
    "\n",
    "# second condition reversing each word\n",
    "words = sentence.split(\" \")\n",
    "for i in words:\n",
    "    s=\" \".join(reversed(words))\n",
    "print(s,end=' ')\n"
   ]
  },
  {
   "cell_type": "markdown",
   "id": "96f96a8c",
   "metadata": {},
   "source": [
    "# Qst no.26. Write a programme to remove special character swap lower to upper, remove number"
   ]
  },
  {
   "cell_type": "code",
   "execution_count": 3,
   "id": "0bf8f62a",
   "metadata": {},
   "outputs": [
    {
     "name": "stdout",
     "output_type": "stream",
     "text": [
      "VikAs12@@3445\n",
      "vIKaS\n"
     ]
    }
   ],
   "source": [
    "#Take input\n",
    "input_string=input()\n",
    "remove_sp_char_num = \"\"\n",
    "#write your code here\n",
    "remove_sp_char_num = ''.join(filter(str.isalpha, input_string)) \n",
    "print(remove_sp_char_num.swapcase())"
   ]
  },
  {
   "cell_type": "code",
   "execution_count": 25,
   "id": "61c8e624",
   "metadata": {},
   "outputs": [
    {
     "name": "stdout",
     "output_type": "stream",
     "text": [
      "pgrd\n"
     ]
    }
   ],
   "source": [
    "s='upgrad'\n",
    "v='aeiouAEIOU'\n",
    "for x in s:\n",
    "    if x in v:\n",
    "s.sort()\n",
    "print(s)        \n",
    "\n",
    " "
   ]
  },
  {
   "cell_type": "code",
   "execution_count": 5,
   "id": "0c3605e7",
   "metadata": {},
   "outputs": [],
   "source": [
    "lst =[1,2,3,4,2]\n"
   ]
  },
  {
   "cell_type": "code",
   "execution_count": 2,
   "id": "62fe9f36",
   "metadata": {},
   "outputs": [],
   "source": [
    "lst.insert(-100,'vikas'"
   ]
  },
  {
   "cell_type": "markdown",
   "id": "245d1b91",
   "metadata": {},
   "source": [
    "lst.index(2)"
   ]
  },
  {
   "cell_type": "code",
   "execution_count": 6,
   "id": "92c5d3b9",
   "metadata": {},
   "outputs": [
    {
     "ename": "AttributeError",
     "evalue": "'list' object has no attribute 'rindex'",
     "output_type": "error",
     "traceback": [
      "\u001b[1;31m---------------------------------------------------------------------------\u001b[0m",
      "\u001b[1;31mAttributeError\u001b[0m                            Traceback (most recent call last)",
      "\u001b[1;32m~\\AppData\\Local\\Temp/ipykernel_5112/2292260601.py\u001b[0m in \u001b[0;36m<module>\u001b[1;34m\u001b[0m\n\u001b[1;32m----> 1\u001b[1;33m \u001b[0mlst\u001b[0m\u001b[1;33m.\u001b[0m\u001b[0mrindex\u001b[0m\u001b[1;33m(\u001b[0m\u001b[1;36m2\u001b[0m\u001b[1;33m)\u001b[0m\u001b[1;33m\u001b[0m\u001b[1;33m\u001b[0m\u001b[0m\n\u001b[0m",
      "\u001b[1;31mAttributeError\u001b[0m: 'list' object has no attribute 'rindex'"
     ]
    }
   ],
   "source": [
    "lst.rindex(2)"
   ]
  },
  {
   "cell_type": "markdown",
   "id": "4d043926",
   "metadata": {},
   "source": [
    "https://drive.google.com/drive/folders/1d9MTbLEJQGd6E4evvITyoYBn1F2DXvbp?usp=sharing"
   ]
  },
  {
   "cell_type": "markdown",
   "id": "f7dcd6a1",
   "metadata": {},
   "source": [
    "02 arp class"
   ]
  },
  {
   "cell_type": "code",
   "execution_count": null,
   "id": "98ec52e6",
   "metadata": {},
   "outputs": [],
   "source": []
  }
 ],
 "metadata": {
  "kernelspec": {
   "display_name": "Python 3 (ipykernel)",
   "language": "python",
   "name": "python3"
  },
  "language_info": {
   "codemirror_mode": {
    "name": "ipython",
    "version": 3
   },
   "file_extension": ".py",
   "mimetype": "text/x-python",
   "name": "python",
   "nbconvert_exporter": "python",
   "pygments_lexer": "ipython3",
   "version": "3.9.7"
  }
 },
 "nbformat": 4,
 "nbformat_minor": 5
}
