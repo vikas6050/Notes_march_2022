{
 "cells": [
  {
   "cell_type": "code",
   "execution_count": 1,
   "id": "01ef151a",
   "metadata": {},
   "outputs": [],
   "source": [
    "# https://docs.python.org/3/library/functions.html#map"
   ]
  },
  {
   "cell_type": "code",
   "execution_count": 1,
   "id": "78546972",
   "metadata": {},
   "outputs": [
    {
     "name": "stdout",
     "output_type": "stream",
     "text": [
      "[23, 45, 34, 76, 70, 94]\n"
     ]
    }
   ],
   "source": [
    "team = [23,45,34,76]\n",
    "applicant = [70,34,94]\n",
    "\n",
    "def hire ( data,check):\n",
    "    avg = sum(team)/len(team)\n",
    "    if check > avg:\n",
    "        return 1\n",
    "    else:\n",
    "        return 0\n",
    "for appl in applicant:\n",
    "    is_add = hire(team,appl)\n",
    "    if is_add == 1:\n",
    "        team.append(appl)\n",
    "print(team)"
   ]
  },
  {
   "cell_type": "code",
   "execution_count": 22,
   "id": "5c7e1cc2",
   "metadata": {},
   "outputs": [
    {
     "name": "stdout",
     "output_type": "stream",
     "text": [
      "0\n"
     ]
    }
   ],
   "source": [
    "events = [[1, 8], [2, 4], [3, 4]]\n",
    "wedding = 11\n",
    "clash = 0\n",
    "for event in events:\n",
    "    if wedding in range(event[0],event[1]):\n",
    "        clash = clash+1\n",
    "print(clash)"
   ]
  },
  {
   "cell_type": "code",
   "execution_count": 38,
   "id": "b1c0b1c2",
   "metadata": {},
   "outputs": [
    {
     "name": "stdout",
     "output_type": "stream",
     "text": [
      "[1, 1, 1, 1]\n",
      "[1, 0, 0, 1]\n",
      "[1, 0, 0, 1]\n",
      "[1, 0, 0, 1]\n",
      "[1, 1, 1, 1]\n"
     ]
    }
   ],
   "source": [
    "m =5 \n",
    "n=4\n",
    "final = [0]*n\n",
    "final = [list(final) for i in range(m)]\n",
    "for i in range(m):\n",
    "    for j in range(n):\n",
    "        if i==0 or j==0 or i==m-1 or j==n-1:\n",
    "            final[i][j]=1\n",
    "for i in final:\n",
    "    print(i)"
   ]
  },
  {
   "cell_type": "code",
   "execution_count": 39,
   "id": "98ab29dc",
   "metadata": {},
   "outputs": [
    {
     "name": "stdout",
     "output_type": "stream",
     "text": [
      "[1, 0, 0]\n",
      "[0, 0, 0]\n",
      "[0, 0, 0]\n"
     ]
    }
   ],
   "source": [
    "original_list=[0, 0, 0]\n",
    "copy1=original_list\n",
    "copy2=list(original_list)\n",
    "copy3=list.copy(original_list)\n",
    "original_list[0] = 1\n",
    "print(copy1)\n",
    "print(copy2)\n",
    "print(copy3)"
   ]
  },
  {
   "cell_type": "code",
   "execution_count": 46,
   "id": "12c555ff",
   "metadata": {},
   "outputs": [
    {
     "name": "stdout",
     "output_type": "stream",
     "text": [
      "\u0001    \u0002    \u0003    \u0004    \u0005    \u0006    \u0007    \b    \t    \n",
      "    \u000b",
      "    \f",
      "    \r",
      "    \u000e    \u000f    \u0010    \u0011    \u0012    \u0013    \u0014    \u0015    \u0016    \u0017    \u0018    \u0019    \u001a    \u001b    \u001c",
      "    \u001d",
      "    \u001e",
      "    \u001f         !    \"    #    $    %    &    '    (    )    *    +    ,    -    .    /    0    1    2    3    4    5    6    7    8    9    :    ;    <    =    >    ?    @    A    B    C    D    E    F    G    H    I    J    K    L    M    N    O    P    Q    R    S    T    U    V    W    X    Y    Z    [    \\    ]    ^    _    `    a    b    c    "
     ]
    }
   ],
   "source": [
    "number = range(1,100)\n",
    "for i in number:\n",
    "    print(chr(i),end='    ')"
   ]
  },
  {
   "cell_type": "code",
   "execution_count": 49,
   "id": "93115022",
   "metadata": {},
   "outputs": [
    {
     "data": {
      "text/plain": [
       "'upGrad'"
      ]
     },
     "execution_count": 49,
     "metadata": {},
     "output_type": "execute_result"
    }
   ],
   "source": [
    "\n",
    "'G'.join(['up','rad'])\n"
   ]
  },
  {
   "cell_type": "code",
   "execution_count": 50,
   "id": "53f63327",
   "metadata": {},
   "outputs": [
    {
     "data": {
      "text/plain": [
       "'upGrad'"
      ]
     },
     "execution_count": 50,
     "metadata": {},
     "output_type": "execute_result"
    }
   ],
   "source": [
    "s='aabupGradaab'.strip('aab')\n",
    "s"
   ]
  },
  {
   "cell_type": "code",
   "execution_count": 51,
   "id": "b0f63f72",
   "metadata": {},
   "outputs": [
    {
     "data": {
      "text/plain": [
       "'upGrad'"
      ]
     },
     "execution_count": 51,
     "metadata": {},
     "output_type": "execute_result"
    }
   ],
   "source": [
    "s='aabupGradaab'.strip('a').strip('b').strip('a')\n",
    "s"
   ]
  },
  {
   "cell_type": "code",
   "execution_count": 62,
   "id": "7e2067cf",
   "metadata": {},
   "outputs": [
    {
     "name": "stdout",
     "output_type": "stream",
     "text": [
      "1\n"
     ]
    }
   ],
   "source": [
    "s= 'HAnnah'\n",
    "s =s.lower() #reversing the string\n",
    "r = s[::-1]\n",
    "\n",
    "if r==s:\n",
    "    print(1)\n",
    "else:\n",
    "    print(0)"
   ]
  },
  {
   "cell_type": "code",
   "execution_count": 69,
   "id": "f7c2f461",
   "metadata": {},
   "outputs": [
    {
     "name": "stdout",
     "output_type": "stream",
     "text": [
      "1\n"
     ]
    }
   ],
   "source": [
    " s= 'Hannah'\n",
    "s =s.lower() #reversing the string\n",
    "r = ''\n",
    "for i in s:\n",
    "    r = i+r  \n",
    "if r==s:\n",
    "    print(1)\n",
    "else:\n",
    "    print(0)"
   ]
  },
  {
   "cell_type": "code",
   "execution_count": 72,
   "id": "c95efec0",
   "metadata": {},
   "outputs": [
    {
     "ename": "NameError",
     "evalue": "name 'reverse' is not defined",
     "output_type": "error",
     "traceback": [
      "\u001b[1;31m---------------------------------------------------------------------------\u001b[0m",
      "\u001b[1;31mNameError\u001b[0m                                 Traceback (most recent call last)",
      "\u001b[1;32m~\\AppData\\Local\\Temp/ipykernel_3388/2800815570.py\u001b[0m in \u001b[0;36m<module>\u001b[1;34m\u001b[0m\n\u001b[0;32m      1\u001b[0m \u001b[0ms\u001b[0m \u001b[1;33m=\u001b[0m \u001b[1;34m'python is super easy and fun'\u001b[0m\u001b[1;33m\u001b[0m\u001b[1;33m\u001b[0m\u001b[0m\n\u001b[1;32m----> 2\u001b[1;33m \u001b[0ms\u001b[0m\u001b[1;33m=\u001b[0m \u001b[0mreverse\u001b[0m\u001b[1;33m(\u001b[0m\u001b[0ms\u001b[0m\u001b[1;33m)\u001b[0m\u001b[1;33m\u001b[0m\u001b[1;33m\u001b[0m\u001b[0m\n\u001b[0m\u001b[0;32m      3\u001b[0m \u001b[0ms\u001b[0m\u001b[1;33m\u001b[0m\u001b[1;33m\u001b[0m\u001b[0m\n",
      "\u001b[1;31mNameError\u001b[0m: name 'reverse' is not defined"
     ]
    }
   ],
   "source": [
    "s = 'python is super easy and fun'\n",
    "s= reverse(s)\n",
    "s"
   ]
  },
  {
   "cell_type": "code",
   "execution_count": 98,
   "id": "5ef8252a",
   "metadata": {},
   "outputs": [
    {
     "name": "stdout",
     "output_type": "stream",
     "text": [
      "fun and easy super is python\n"
     ]
    }
   ],
   "source": [
    "s = 'python is super easy and fun'\n",
    "s = s.split()\n",
    "\n",
    "print(\" \".join(list(reversed(s))))\n"
   ]
  },
  {
   "cell_type": "code",
   "execution_count": 125,
   "id": "29acf6b7",
   "metadata": {},
   "outputs": [
    {
     "name": "stdout",
     "output_type": "stream",
     "text": [
      "False\n",
      "False\n",
      "True\n"
     ]
    }
   ],
   "source": [
    "n = 4\n",
    "s = [3,9,10,11]\n",
    "for i in range(1,n+1):\n",
    "    if i in s:\n",
    "        print(True)\n",
    "        break\n",
    "    else:\n",
    "        print(False)\n",
    "\n"
   ]
  },
  {
   "cell_type": "code",
   "execution_count": 23,
   "id": "b42ce30a",
   "metadata": {},
   "outputs": [
    {
     "name": "stdout",
     "output_type": "stream",
     "text": [
      "7\n"
     ]
    }
   ],
   "source": [
    "r='pythonp'\n",
    "p =list(r)\n",
    "print(len(p))\n",
    "# for i in p:\n",
    "#     for j in range(0,len(p)):\n",
    "#         if p[j]==p[j+1]:\n",
    "#             print(\"not\")\n",
    "#     else:\n",
    "#         print('yes')\n",
    "        \n",
    "        "
   ]
  },
  {
   "cell_type": "code",
   "execution_count": 60,
   "id": "c154d259",
   "metadata": {},
   "outputs": [
    {
     "data": {
      "text/plain": [
       "'Data_Science'"
      ]
     },
     "execution_count": 60,
     "metadata": {},
     "output_type": "execute_result"
    }
   ],
   "source": [
    "s= caloRie consuMed\n",
    "r=s.lower()\n",
    "words = r.split(' ')\n",
    "final_list = [word.title() for word in words]\n",
    "final_string = '_'.join(final_list)\n",
    "final_string\n"
   ]
  },
  {
   "cell_type": "code",
   "execution_count": 61,
   "id": "72e9ae5e",
   "metadata": {},
   "outputs": [
    {
     "ename": "SyntaxError",
     "evalue": "invalid syntax (Temp/ipykernel_5008/2802058948.py, line 1)",
     "output_type": "error",
     "traceback": [
      "\u001b[1;36m  File \u001b[1;32m\"C:\\Users\\vikas\\AppData\\Local\\Temp/ipykernel_5008/2802058948.py\"\u001b[1;36m, line \u001b[1;32m1\u001b[0m\n\u001b[1;33m    s= caloRie consuMed\u001b[0m\n\u001b[1;37m               ^\u001b[0m\n\u001b[1;31mSyntaxError\u001b[0m\u001b[1;31m:\u001b[0m invalid syntax\n"
     ]
    }
   ],
   "source": [
    "s= caloRie consuMed\n",
    "type(s)"
   ]
  },
  {
   "cell_type": "code",
   "execution_count": 44,
   "id": "fddaf6ed",
   "metadata": {},
   "outputs": [
    {
     "name": "stdout",
     "output_type": "stream",
     "text": [
      "oaiprgrmmng\n"
     ]
    }
   ],
   "source": [
    "s ='programming'\n",
    "vowel = 'aeiouAEIOU'\n",
    "v = \"\"\n",
    "o = \"\"\n",
    "for i in s:\n",
    "    if i in vowel:\n",
    "        v = v+i\n",
    "    else:\n",
    "        o = o+i\n",
    "final_string = v+o       \n",
    "print(final_string)"
   ]
  },
  {
   "cell_type": "code",
   "execution_count": 111,
   "id": "593c58c8",
   "metadata": {},
   "outputs": [
    {
     "name": "stdout",
     "output_type": "stream",
     "text": [
      "upgra\n",
      "5\n"
     ]
    }
   ],
   "source": [
    "s1 = \"upgrad\"\n",
    "s2 = \"upGradScience\"\n",
    "s1= s1.lower()\n",
    "s2=s2.lower()\n",
    "l3 = min(len(s1),len(s2))\n",
    "for i in range(l3):\n",
    "    while s1[i] != s2[i]:\n",
    "        break\n",
    "if i ==0:\n",
    "    print('-1')\n",
    "if len(s1)<len(s2):\n",
    "    print(s1[:i])\n",
    "else:\n",
    "    print(s2[:i])\n",
    "    \n",
    "print(i)"
   ]
  },
  {
   "cell_type": "code",
   "execution_count": 112,
   "id": "57679909",
   "metadata": {},
   "outputs": [
    {
     "data": {
      "text/plain": [
       "'upgra'"
      ]
     },
     "execution_count": 112,
     "metadata": {},
     "output_type": "execute_result"
    }
   ],
   "source": [
    "s1 = \"upgrad\"\n",
    "s1[:5]"
   ]
  },
  {
   "cell_type": "code",
   "execution_count": 133,
   "id": "8340922f",
   "metadata": {},
   "outputs": [
    {
     "name": "stdout",
     "output_type": "stream",
     "text": [
      "upgrad\n",
      "6\n"
     ]
    }
   ],
   "source": [
    "s1 = \"upgradtyi\"\n",
    "s2 = \"upgradwqpkl\"\n",
    "s1= s1.lower()\n",
    "s2=s2.lower()\n",
    "l3 = min(len(s1),len(s2))\n",
    "for i in range(l3):\n",
    "    if s1[i] != s2[i]:\n",
    "        break\n",
    "if i == 0:\n",
    "    print('-1')\n",
    "elif s1 in s2:\n",
    "    print(s1)\n",
    "elif s2 in s1:\n",
    "    print(s2)\n",
    "    \n",
    "else:\n",
    "    print(s1[:i])\n",
    "    \n",
    "print(i)"
   ]
  },
  {
   "cell_type": "code",
   "execution_count": 92,
   "id": "6be80086",
   "metadata": {},
   "outputs": [
    {
     "data": {
      "text/plain": [
       "'d'"
      ]
     },
     "execution_count": 92,
     "metadata": {},
     "output_type": "execute_result"
    }
   ],
   "source": [
    "s1 = \"upgradData\"\n",
    "s1[5]"
   ]
  },
  {
   "cell_type": "code",
   "execution_count": 132,
   "id": "1e50dbcd",
   "metadata": {},
   "outputs": [
    {
     "name": "stdout",
     "output_type": "stream",
     "text": [
      "upgrad\n"
     ]
    }
   ],
   "source": [
    "s1 = \"upgrad\"\n",
    "s2 = \"hhhhupGradScience\"\n",
    "s1= s1.lower()\n",
    "s2=s2.lower()\n",
    "if s1 in s2:\n",
    "    print(s1)\n",
    "else:\n",
    "    print(s2)"
   ]
  },
  {
   "cell_type": "code",
   "execution_count": null,
   "id": "473023c1",
   "metadata": {},
   "outputs": [],
   "source": [
    "a= \"night\"\n",
    "b =\"thing\"\n",
    "c = sorted(list(a)\n",
    "d = sorted(b)\n",
    "print(c)\n"
   ]
  },
  {
   "cell_type": "code",
   "execution_count": 10,
   "id": "5e9cbba3",
   "metadata": {},
   "outputs": [
    {
     "name": "stdout",
     "output_type": "stream",
     "text": [
      "anagram\n"
     ]
    }
   ],
   "source": [
    "a= \"Night\"\n",
    "b =\"thing\"\n",
    "c = sorted(list(a.lower()))\n",
    "d = sorted(list(b.lower()))\n",
    "if c==d:\n",
    "    print('anagram')\n",
    "else:\n",
    "    print('not anagram')\n"
   ]
  },
  {
   "cell_type": "code",
   "execution_count": 21,
   "id": "12560229",
   "metadata": {},
   "outputs": [
    {
     "name": "stdout",
     "output_type": "stream",
     "text": [
      "True\n"
     ]
    }
   ],
   "source": [
    "s1= \"night\"\n",
    "s2 =\"thing\"\n",
    "def check_anagram(s1,s2):\n",
    "    if len(s1) != len(s2):\n",
    "        return False\n",
    "    for i in range(len(s1)):\n",
    "        if s1.count(s1[i]) != s2.count(s2[i]):\n",
    "            return False\n",
    "    return True\n",
    "        \n",
    "print(check_anagram(s1,s2))"
   ]
  },
  {
   "cell_type": "code",
   "execution_count": 36,
   "id": "b8684a7f",
   "metadata": {},
   "outputs": [
    {
     "ename": "SyntaxError",
     "evalue": "invalid syntax (Temp/ipykernel_5936/1208631456.py, line 6)",
     "output_type": "error",
     "traceback": [
      "\u001b[1;36m  File \u001b[1;32m\"C:\\Users\\vikas\\AppData\\Local\\Temp/ipykernel_5936/1208631456.py\"\u001b[1;36m, line \u001b[1;32m6\u001b[0m\n\u001b[1;33m    for  wrap>=3:\u001b[0m\n\u001b[1;37m                ^\u001b[0m\n\u001b[1;31mSyntaxError\u001b[0m\u001b[1;31m:\u001b[0m invalid syntax\n"
     ]
    }
   ],
   "source": [
    "\n",
    "choc = 20 \n",
    "wrap = 2\n",
    "\n",
    "choc = m//c\n",
    "wrap = choc\n",
    "for  wrap>=3:\n",
    "    wrap= choc + wrap%3\n",
    "    choc = choc + wrap//3\n",
    "    \n",
    "\n",
    "print(choc)    \n",
    "    "
   ]
  },
  {
   "cell_type": "code",
   "execution_count": 67,
   "id": "7a3eaf7b",
   "metadata": {},
   "outputs": [
    {
     "name": "stdout",
     "output_type": "stream",
     "text": [
      "['a', 'm', 'a', 'z', 'o', 'n']\n",
      "['i', 'n', 'd', 'i', 'a']\n",
      "['a', 'm', 'a', 'z', 'o', 'n', 'i', 'n', 'd', 'i', 'a']\n"
     ]
    }
   ],
   "source": [
    "msg=list('amazon')\n",
    "\n",
    "new=list('india')\n",
    "\n",
    "print(msg)\n",
    "\n",
    "print(new)\n",
    "\n",
    "list_1=(msg.extend(new))\n",
    "\n",
    "print(msg)"
   ]
  },
  {
   "cell_type": "code",
   "execution_count": 58,
   "id": "0fef55e9",
   "metadata": {},
   "outputs": [
    {
     "ename": "SyntaxError",
     "evalue": "invalid syntax (Temp/ipykernel_5936/1855937103.py, line 9)",
     "output_type": "error",
     "traceback": [
      "\u001b[1;36m  File \u001b[1;32m\"C:\\Users\\vikas\\AppData\\Local\\Temp/ipykernel_5936/1855937103.py\"\u001b[1;36m, line \u001b[1;32m9\u001b[0m\n\u001b[1;33m    list_1=(msg.extend(new), inplace = False)\u001b[0m\n\u001b[1;37m                                     ^\u001b[0m\n\u001b[1;31mSyntaxError\u001b[0m\u001b[1;31m:\u001b[0m invalid syntax\n"
     ]
    }
   ],
   "source": [
    "C\n"
   ]
  },
  {
   "cell_type": "code",
   "execution_count": 104,
   "id": "1c8927e8",
   "metadata": {},
   "outputs": [
    {
     "name": "stdout",
     "output_type": "stream",
     "text": [
      "['a', 'm', 'a', 'z', 'o', 'n']\n",
      "['i', 'n', 'd', 'i', 'a']\n",
      "['a', 'm', 'a', 'z', 'o', 'n', 'i', 'n', 'd', 'i', 'a']\n"
     ]
    }
   ],
   "source": [
    "msg=list('amazon')\n",
    "\n",
    "\n",
    "new=list('india')\n",
    "\n",
    "\n",
    "print(msg)\n",
    "\n",
    "print(new)\n",
    "\n",
    "list_1= msg+new\n",
    "\n",
    "print(list_1)\n",
    "\n",
    " "
   ]
  },
  {
   "cell_type": "code",
   "execution_count": null,
   "id": "bbf06f19",
   "metadata": {},
   "outputs": [],
   "source": [
    "m= 21 # money the person have\n",
    "c = 2 # value of chochlate\n",
    "choc = m//c  # 10\n",
    "wrap = choc  # 10b\n",
    "choc1 = wrap//3 # 3\n",
    "wrap2 = choc1+ wrap%3 # 3+1\n",
    "choc2= wrap2//3  # 1\n",
    "wrap3 = choc2/3 + wrap%3=1 \n",
    "Total choch has been eaten = choc+choc1+choc2 = 10+\n"
   ]
  },
  {
   "cell_type": "code",
   "execution_count": 110,
   "id": "da312902",
   "metadata": {},
   "outputs": [
    {
     "name": "stdout",
     "output_type": "stream",
     "text": [
      "14\n"
     ]
    }
   ],
   "source": [
    "m= 21 # money the person have\n",
    "c = 2 # value of chochlate\n",
    "choc = m//c\n",
    "wrap = choc\n",
    "while wrap//3 !=0:\n",
    "    choc = choc + wrap//3     #there was an offer on 3 wrap, we get 1 choclate.\n",
    "    wrap = wrap//3 + wrap%3\n",
    "    \n",
    "print(choc)    "
   ]
  },
  {
   "cell_type": "code",
   "execution_count": 116,
   "id": "b0237df2",
   "metadata": {},
   "outputs": [
    {
     "ename": "TypeError",
     "evalue": "descriptor 'intersection' for 'set' objects doesn't apply to a 'list' object",
     "output_type": "error",
     "traceback": [
      "\u001b[1;31m---------------------------------------------------------------------------\u001b[0m",
      "\u001b[1;31mTypeError\u001b[0m                                 Traceback (most recent call last)",
      "\u001b[1;32m~\\AppData\\Local\\Temp/ipykernel_5936/2500175386.py\u001b[0m in \u001b[0;36m<module>\u001b[1;34m\u001b[0m\n\u001b[0;32m     12\u001b[0m \u001b[1;33m\u001b[0m\u001b[0m\n\u001b[0;32m     13\u001b[0m \u001b[1;33m\u001b[0m\u001b[0m\n\u001b[1;32m---> 14\u001b[1;33m \u001b[0mset\u001b[0m\u001b[1;33m.\u001b[0m\u001b[0mintersection\u001b[0m\u001b[1;33m(\u001b[0m\u001b[1;33m[\u001b[0m\u001b[0mA\u001b[0m\u001b[1;33m,\u001b[0m \u001b[0mB\u001b[0m\u001b[1;33m,\u001b[0m \u001b[0mC\u001b[0m\u001b[1;33m]\u001b[0m\u001b[1;33m)\u001b[0m\u001b[1;33m\u001b[0m\u001b[1;33m\u001b[0m\u001b[0m\n\u001b[0m",
      "\u001b[1;31mTypeError\u001b[0m: descriptor 'intersection' for 'set' objects doesn't apply to a 'list' object"
     ]
    }
   ],
   "source": [
    "A= {2,3,5,6,8}\n",
    "B = {33,2,4,5,6,7}\n",
    "C = {22,3,44,5,66,77}\n",
    "\n",
    "# set.intersection(A, B, C)\n",
    "\n",
    "\n",
    "# A.intersection(B, C)\n",
    "\n",
    "\n",
    "# A.intersection([B, C])\n",
    "\n",
    "\n",
    "set.intersection([A, B, C])"
   ]
  },
  {
   "cell_type": "code",
   "execution_count": 121,
   "id": "578d55c8",
   "metadata": {},
   "outputs": [
    {
     "data": {
      "text/plain": [
       "dict"
      ]
     },
     "execution_count": 121,
     "metadata": {},
     "output_type": "execute_result"
    }
   ],
   "source": [
    "\n",
    "# d = {} yes\n",
    "\n",
    "\n",
    "# d = ('a':1, 'b':2)\n",
    "\n",
    "\n",
    "# d=dict(a=1, b=2)  yes\n",
    "\n",
    "\n",
    "# d={'a'=1, 'b'=2}\n",
    "\n",
    "d={'a':1, 'b':2} yes\n",
    "type(d)"
   ]
  },
  {
   "cell_type": "code",
   "execution_count": 134,
   "id": "00229faf",
   "metadata": {},
   "outputs": [],
   "source": [
    "dict_1 = {\"Python\":40, \"R\":45}\n",
    "del dict_1['R']"
   ]
  },
  {
   "cell_type": "code",
   "execution_count": 135,
   "id": "aaf57cad",
   "metadata": {},
   "outputs": [
    {
     "ename": "NameError",
     "evalue": "name 'ast' is not defined",
     "output_type": "error",
     "traceback": [
      "\u001b[1;31m---------------------------------------------------------------------------\u001b[0m",
      "\u001b[1;31mNameError\u001b[0m                                 Traceback (most recent call last)",
      "\u001b[1;32m~\\AppData\\Local\\Temp/ipykernel_5936/3803925644.py\u001b[0m in \u001b[0;36m<module>\u001b[1;34m\u001b[0m\n\u001b[1;32m----> 1\u001b[1;33m \u001b[0mmylist\u001b[0m \u001b[1;33m=\u001b[0m \u001b[0mast\u001b[0m\u001b[1;33m.\u001b[0m\u001b[0mliteral_eval\u001b[0m\u001b[1;33m(\u001b[0m\u001b[0minput\u001b[0m\u001b[1;33m(\u001b[0m\u001b[1;33m)\u001b[0m\u001b[1;33m)\u001b[0m\u001b[1;33m\u001b[0m\u001b[1;33m\u001b[0m\u001b[0m\n\u001b[0m\u001b[0;32m      2\u001b[0m \u001b[1;33m\u001b[0m\u001b[0m\n\u001b[0;32m      3\u001b[0m \u001b[1;31m#remove duplicates from the list\u001b[0m\u001b[1;33m\u001b[0m\u001b[1;33m\u001b[0m\u001b[0m\n\u001b[0;32m      4\u001b[0m \u001b[0md\u001b[0m \u001b[1;33m=\u001b[0m \u001b[1;33m{\u001b[0m\u001b[1;33m}\u001b[0m\u001b[1;33m\u001b[0m\u001b[1;33m\u001b[0m\u001b[0m\n\u001b[0;32m      5\u001b[0m \u001b[1;32mfor\u001b[0m \u001b[0mitems\u001b[0m \u001b[1;32min\u001b[0m \u001b[0mmylist\u001b[0m\u001b[1;33m:\u001b[0m\u001b[1;33m\u001b[0m\u001b[1;33m\u001b[0m\u001b[0m\n",
      "\u001b[1;31mNameError\u001b[0m: name 'ast' is not defined"
     ]
    }
   ],
   "source": [
    "mylist = ast.literal_eval(input())\n",
    "\n",
    "#remove duplicates from the list\n",
    "d = {}\n",
    "for items in mylist:\n",
    "    if items not in d:\n",
    "        d[items] = 1\n",
    "#print the list without duplicates\n",
    "print(list(d.keys()))\n"
   ]
  },
  {
   "cell_type": "code",
   "execution_count": 143,
   "id": "938c592d",
   "metadata": {},
   "outputs": [
    {
     "name": "stdout",
     "output_type": "stream",
     "text": [
      "The integer hash value is : 4\n",
      "The string hash value is : -6177344225165202507\n",
      "The float hash value is : 1291272085159665688\n"
     ]
    }
   ],
   "source": [
    "# Python 3 code to demonstrate\n",
    "# working of hash()\n",
    " \n",
    "# initializing objects\n",
    "int_val = 4\n",
    "str_val = 'GeeksforGeeks'\n",
    "flt_val = 24.56\n",
    " \n",
    "# Printing the hash values.\n",
    "# Notice Integer value doesn't change\n",
    "# You'l have answer later in article.\n",
    "print(\"The integer hash value is : \" + str(hash(int_val)))\n",
    "print(\"The string hash value is : \" + str(hash(str_val)))\n",
    "print(\"The float hash value is : \" + str(hash(flt_val)))"
   ]
  },
  {
   "cell_type": "code",
   "execution_count": 2,
   "id": "82b7d3d7",
   "metadata": {},
   "outputs": [
    {
     "name": "stdout",
     "output_type": "stream",
     "text": [
      "100 100\n",
      "0 100\n",
      "33 34\n",
      "0 34\n",
      "11 12\n",
      "0 12\n",
      "4 4\n",
      "0 4\n",
      "1 2\n",
      "0 2\n"
     ]
    }
   ],
   "source": [
    "c= 100\n",
    "w=c\n",
    "print(c,w)\n",
    "c=0\n",
    "print(c,w)\n",
    "# 1st time \n",
    "c= w//3 \n",
    "w = w//3+w%3\n",
    "print(c,w)\n",
    "c=0\n",
    "print(c,w)\n",
    "#2nd time\n",
    "c= w//3 \n",
    "w = c+w%3\n",
    "print(c,w)\n",
    "c=0\n",
    "print(c,w)\n",
    "# 3rd time\n",
    "c= w//3 \n",
    "w = c+w%3\n",
    "print(c,w)\n",
    "c=0\n",
    "print(c,w)\n",
    "c= w//3 \n",
    "w = c+w%3\n",
    "print(c,w)\n",
    "c=0\n",
    "print(c,w)\n"
   ]
  },
  {
   "cell_type": "code",
   "execution_count": 12,
   "id": "60a685b6",
   "metadata": {},
   "outputs": [
    {
     "ename": "SyntaxError",
     "evalue": "invalid syntax (Temp/ipykernel_1968/1896793321.py, line 17)",
     "output_type": "error",
     "traceback": [
      "\u001b[1;36m  File \u001b[1;32m\"C:\\Users\\vikas\\AppData\\Local\\Temp/ipykernel_1968/1896793321.py\"\u001b[1;36m, line \u001b[1;32m17\u001b[0m\n\u001b[1;33m    w>=3:\u001b[0m\n\u001b[1;37m         ^\u001b[0m\n\u001b[1;31mSyntaxError\u001b[0m\u001b[1;31m:\u001b[0m invalid syntax\n"
     ]
    }
   ],
   "source": [
    "c = 50\n",
    "w =c\n",
    "print(c,w)\n",
    "if w>=3:\n",
    "c1 = w//3 \n",
    "w = w//3+w%3\n",
    "print(c1,w)\n",
    "if w>=3:\n",
    "c2 = w//3 \n",
    "w = w//3+w%3\n",
    "print(c2,w)\n",
    "if w>=3:\n",
    "c3 = w//3 \n",
    "w = w//3+w%3 \n",
    "print(c3,w)\n",
    "else:\n",
    "w>=3:\n",
    "c4 = w//3 \n",
    "w = w//3+w%3 \n",
    "print(c4,w)\n",
    "    \n",
    "print(c+c1+c2+c4)    \n",
    "    "
   ]
  },
  {
   "cell_type": "code",
   "execution_count": 16,
   "id": "ad4e3fb1",
   "metadata": {},
   "outputs": [
    {
     "name": "stdout",
     "output_type": "stream",
     "text": [
      "74\n"
     ]
    }
   ],
   "source": [
    "\n",
    "choc = 50\n",
    "wrap = choc\n",
    "while  wrap//3 !=0:\n",
    "    \n",
    "    choc = choc + wrap//3\n",
    "    wrap= wrap//3 + wrap%3\n",
    "print(choc)    \n",
    "    "
   ]
  },
  {
   "cell_type": "code",
   "execution_count": 15,
   "id": "2b02abf5",
   "metadata": {},
   "outputs": [
    {
     "ename": "KeyboardInterrupt",
     "evalue": "",
     "output_type": "error",
     "traceback": [
      "\u001b[1;31m---------------------------------------------------------------------------\u001b[0m",
      "\u001b[1;31mKeyboardInterrupt\u001b[0m                         Traceback (most recent call last)",
      "\u001b[1;32m~\\AppData\\Local\\Temp/ipykernel_1968/3618506979.py\u001b[0m in \u001b[0;36m<module>\u001b[1;34m\u001b[0m\n\u001b[0;32m      3\u001b[0m \u001b[0mchoc\u001b[0m \u001b[1;33m=\u001b[0m \u001b[0mm\u001b[0m\u001b[1;33m//\u001b[0m\u001b[0mc\u001b[0m\u001b[1;33m\u001b[0m\u001b[1;33m\u001b[0m\u001b[0m\n\u001b[0;32m      4\u001b[0m \u001b[0mwrap\u001b[0m \u001b[1;33m=\u001b[0m \u001b[0mchoc\u001b[0m\u001b[1;33m\u001b[0m\u001b[1;33m\u001b[0m\u001b[0m\n\u001b[1;32m----> 5\u001b[1;33m \u001b[1;32mwhile\u001b[0m \u001b[0mwrap\u001b[0m\u001b[1;33m//\u001b[0m\u001b[1;36m3\u001b[0m\u001b[1;33m!=\u001b[0m\u001b[1;36m0\u001b[0m\u001b[1;33m:\u001b[0m\u001b[1;33m\u001b[0m\u001b[1;33m\u001b[0m\u001b[0m\n\u001b[0m\u001b[0;32m      6\u001b[0m     \u001b[0mchoc1\u001b[0m \u001b[1;33m=\u001b[0m \u001b[0mchoc\u001b[0m \u001b[1;33m+\u001b[0m \u001b[0mwrap1\u001b[0m\u001b[1;33m//\u001b[0m\u001b[1;36m3\u001b[0m\u001b[1;33m\u001b[0m\u001b[1;33m\u001b[0m\u001b[0m\n\u001b[0;32m      7\u001b[0m     \u001b[0mwrap1\u001b[0m \u001b[1;33m=\u001b[0m \u001b[0mwrap\u001b[0m\u001b[1;33m//\u001b[0m\u001b[1;36m3\u001b[0m \u001b[1;33m+\u001b[0m \u001b[0mwrap\u001b[0m\u001b[1;33m%\u001b[0m\u001b[1;36m3\u001b[0m\u001b[1;33m\u001b[0m\u001b[1;33m\u001b[0m\u001b[0m\n",
      "\u001b[1;31mKeyboardInterrupt\u001b[0m: "
     ]
    }
   ],
   "source": [
    "\n",
    "m = 100\n",
    "c = 2\n",
    "choc = m//c\n",
    "wrap = choc\n",
    "while wrap//3!=0:\n",
    "    choc1 = choc + wrap1//3     \n",
    "    wrap1 = wrap//3 + wrap%3\n",
    "print(choc1,wrap1)\n",
    "#     choc2 = choc1 + wrap1//3     \n",
    "#     wrap2 = wrap1//3 + wrap1%3\n",
    "#     print(choc2,wrap2)\n",
    " "
   ]
  },
  {
   "cell_type": "code",
   "execution_count": 4,
   "id": "2b24ee79",
   "metadata": {},
   "outputs": [
    {
     "name": "stdout",
     "output_type": "stream",
     "text": [
      "[100, 200, 300, 400, 500]\n"
     ]
    }
   ],
   "source": [
    "p = [x*100 for x in range(1,6)]\n",
    "print(p)"
   ]
  },
  {
   "cell_type": "code",
   "execution_count": 31,
   "id": "9d1a9d23",
   "metadata": {},
   "outputs": [
    {
     "name": "stdout",
     "output_type": "stream",
     "text": [
      "[3, 6, 9, 12, 15, 18, 21, 24, 27, 30, 33, 36, 39, 42, 45]\n"
     ]
    }
   ],
   "source": [
    "print([3*i for i in range(1,16)])"
   ]
  },
  {
   "cell_type": "code",
   "execution_count": 17,
   "id": "3c94f7fa",
   "metadata": {},
   "outputs": [
    {
     "name": "stdout",
     "output_type": "stream",
     "text": [
      "['odd']\n"
     ]
    }
   ],
   "source": [
    "x =12\n",
    "print([ \"even \"if x%2==2 else \"odd\" ])\n"
   ]
  },
  {
   "cell_type": "code",
   "execution_count": 35,
   "id": "394cce91",
   "metadata": {},
   "outputs": [
    {
     "ename": "SyntaxError",
     "evalue": "invalid syntax (Temp/ipykernel_7160/2578725052.py, line 1)",
     "output_type": "error",
     "traceback": [
      "\u001b[1;36m  File \u001b[1;32m\"C:\\Users\\vikas\\AppData\\Local\\Temp/ipykernel_7160/2578725052.py\"\u001b[1;36m, line \u001b[1;32m1\u001b[0m\n\u001b[1;33m    print([  x in range(1,21) for x %3==0])\u001b[0m\n\u001b[1;37m                                         ^\u001b[0m\n\u001b[1;31mSyntaxError\u001b[0m\u001b[1;31m:\u001b[0m invalid syntax\n"
     ]
    }
   ],
   "source": [
    "print([  x in range(1,21) for x %3==0])"
   ]
  },
  {
   "cell_type": "code",
   "execution_count": 36,
   "id": "df313f11",
   "metadata": {},
   "outputs": [
    {
     "name": "stdout",
     "output_type": "stream",
     "text": [
      "['red', 'green', 'yellow', 'indigo']\n"
     ]
    }
   ],
   "source": [
    "colors  = ['red', 'green', 'yellow', 'indigo']\n",
    "print([ color for color in colors])"
   ]
  },
  {
   "cell_type": "code",
   "execution_count": 40,
   "id": "be58fa0e",
   "metadata": {},
   "outputs": [
    {
     "name": "stdout",
     "output_type": "stream",
     "text": [
      "['orange', 'indigo']\n"
     ]
    }
   ],
   "source": [
    "colors = ['red','green','orange','black','indigo']\n",
    "# exercise # list comprehension >> only if starts with a vowel\n",
    "print([color for color in colors if color[0] in ('aeiou')])"
   ]
  },
  {
   "cell_type": "code",
   "execution_count": 53,
   "id": "b32b1316",
   "metadata": {},
   "outputs": [
    {
     "name": "stdout",
     "output_type": "stream",
     "text": [
      "['iph*one', 'ip*ad']\n"
     ]
    }
   ],
   "source": [
    "# exercise # list comprehension >> items that have * in them\n",
    "giftBox = 'bread iph*one butter ip*ad milk'\n",
    "giftBoxItems = giftBox.split()\n",
    "print([item for item in giftBoxItems if '*' in item])"
   ]
  },
  {
   "cell_type": "code",
   "execution_count": 50,
   "id": "819a1c56",
   "metadata": {},
   "outputs": [
    {
     "ename": "NameError",
     "evalue": "name 'giftBoxitem' is not defined",
     "output_type": "error",
     "traceback": [
      "\u001b[1;31m---------------------------------------------------------------------------\u001b[0m",
      "\u001b[1;31mNameError\u001b[0m                                 Traceback (most recent call last)",
      "\u001b[1;32m~\\AppData\\Local\\Temp/ipykernel_7160/4001779447.py\u001b[0m in \u001b[0;36m<module>\u001b[1;34m\u001b[0m\n\u001b[1;32m----> 1\u001b[1;33m \u001b[0mprint\u001b[0m\u001b[1;33m(\u001b[0m\u001b[1;33m[\u001b[0m\u001b[0mitem\u001b[0m \u001b[1;32mfor\u001b[0m \u001b[0mitem\u001b[0m \u001b[1;32min\u001b[0m \u001b[0mgiftBoxitem\u001b[0m \u001b[1;32mif\u001b[0m \u001b[1;34m'*'\u001b[0m \u001b[1;32min\u001b[0m \u001b[0mitem\u001b[0m\u001b[1;33m]\u001b[0m\u001b[1;33m)\u001b[0m\u001b[1;33m\u001b[0m\u001b[1;33m\u001b[0m\u001b[0m\n\u001b[0m",
      "\u001b[1;31mNameError\u001b[0m: name 'giftBoxitem' is not defined"
     ]
    }
   ],
   "source": [
    "\n",
    "print([item for item in giftBoxitem if '*' in item])"
   ]
  },
  {
   "cell_type": "code",
   "execution_count": 55,
   "id": "3c72cb17",
   "metadata": {},
   "outputs": [
    {
     "name": "stdout",
     "output_type": "stream",
     "text": [
      "{1: 1, 2: 4, 3: 9, 4: 16, 5: 25}\n"
     ]
    }
   ],
   "source": [
    "print({x:x*x for x in range(1,6)})"
   ]
  },
  {
   "cell_type": "code",
   "execution_count": 60,
   "id": "528c68d9",
   "metadata": {},
   "outputs": [
    {
     "name": "stdout",
     "output_type": "stream",
     "text": [
      "{80: 80000, 87: 87000, 89: 89000, 31: 31000, 97: 97000}\n"
     ]
    }
   ],
   "source": [
    "# exercise: create a dictionary for weight in grams\n",
    "wt_kgs = [80,87,89,31,97]\n",
    "print({x:x*1000 for x in wt_kgs})"
   ]
  },
  {
   "cell_type": "code",
   "execution_count": 63,
   "id": "64ee4ab9",
   "metadata": {},
   "outputs": [
    {
     "ename": "SyntaxError",
     "evalue": "cannot assign to function call (Temp/ipykernel_7160/104438512.py, line 4)",
     "output_type": "error",
     "traceback": [
      "\u001b[1;36m  File \u001b[1;32m\"C:\\Users\\vikas\\AppData\\Local\\Temp/ipykernel_7160/104438512.py\"\u001b[1;36m, line \u001b[1;32m4\u001b[0m\n\u001b[1;33m    print({wts.keys(): wts*2.2 for wts.values() in wts})\u001b[0m\n\u001b[1;37m                                   ^\u001b[0m\n\u001b[1;31mSyntaxError\u001b[0m\u001b[1;31m:\u001b[0m cannot assign to function call\n"
     ]
    }
   ],
   "source": [
    "# 1kg in pounds , 1kg = 2.2 punds\n",
    "wts = {80: 80000, 87: 87000, 89: 89000, 31: 31000, 97: 97000}\n",
    "# create a dictionary for weight in pounds\n",
    "print({wts.keys(): wts*2.2 for wts.values() in wts})"
   ]
  },
  {
   "cell_type": "code",
   "execution_count": 70,
   "id": "b93d3360",
   "metadata": {},
   "outputs": [
    {
     "ename": "TypeError",
     "evalue": "unhashable type: 'dict_keys'",
     "output_type": "error",
     "traceback": [
      "\u001b[1;31m---------------------------------------------------------------------------\u001b[0m",
      "\u001b[1;31mTypeError\u001b[0m                                 Traceback (most recent call last)",
      "\u001b[1;32m~\\AppData\\Local\\Temp/ipykernel_7160/160369618.py\u001b[0m in \u001b[0;36m<module>\u001b[1;34m\u001b[0m\n\u001b[0;32m      3\u001b[0m \u001b[0mgroceries\u001b[0m \u001b[1;33m=\u001b[0m \u001b[1;33m{\u001b[0m\u001b[1;34m'milk'\u001b[0m\u001b[1;33m:\u001b[0m\u001b[1;36m3\u001b[0m\u001b[1;33m,\u001b[0m \u001b[1;34m'apples'\u001b[0m\u001b[1;33m:\u001b[0m\u001b[1;36m5.5\u001b[0m\u001b[1;33m,\u001b[0m \u001b[1;34m'bread'\u001b[0m\u001b[1;33m:\u001b[0m\u001b[1;36m4\u001b[0m\u001b[1;33m}\u001b[0m\u001b[1;33m\u001b[0m\u001b[1;33m\u001b[0m\u001b[0m\n\u001b[0;32m      4\u001b[0m \u001b[1;31m# get output as price in rupees [1 dollar = 76 rupees]\u001b[0m\u001b[1;33m\u001b[0m\u001b[1;33m\u001b[0m\u001b[0m\n\u001b[1;32m----> 5\u001b[1;33m \u001b[0mprint\u001b[0m\u001b[1;33m(\u001b[0m\u001b[1;33m{\u001b[0m\u001b[0mgroceries\u001b[0m\u001b[1;33m.\u001b[0m\u001b[0mkeys\u001b[0m\u001b[1;33m(\u001b[0m\u001b[1;33m)\u001b[0m \u001b[1;33m:\u001b[0m \u001b[0mx\u001b[0m\u001b[1;33m*\u001b[0m\u001b[1;36m76\u001b[0m \u001b[1;32mfor\u001b[0m \u001b[0mx\u001b[0m \u001b[1;32min\u001b[0m \u001b[0mgroceries\u001b[0m\u001b[1;33m.\u001b[0m\u001b[0mvalues\u001b[0m\u001b[1;33m(\u001b[0m\u001b[1;33m)\u001b[0m\u001b[1;33m}\u001b[0m\u001b[1;33m)\u001b[0m\u001b[1;33m\u001b[0m\u001b[1;33m\u001b[0m\u001b[0m\n\u001b[0m",
      "\u001b[1;32m~\\AppData\\Local\\Temp/ipykernel_7160/160369618.py\u001b[0m in \u001b[0;36m<dictcomp>\u001b[1;34m(.0)\u001b[0m\n\u001b[0;32m      3\u001b[0m \u001b[0mgroceries\u001b[0m \u001b[1;33m=\u001b[0m \u001b[1;33m{\u001b[0m\u001b[1;34m'milk'\u001b[0m\u001b[1;33m:\u001b[0m\u001b[1;36m3\u001b[0m\u001b[1;33m,\u001b[0m \u001b[1;34m'apples'\u001b[0m\u001b[1;33m:\u001b[0m\u001b[1;36m5.5\u001b[0m\u001b[1;33m,\u001b[0m \u001b[1;34m'bread'\u001b[0m\u001b[1;33m:\u001b[0m\u001b[1;36m4\u001b[0m\u001b[1;33m}\u001b[0m\u001b[1;33m\u001b[0m\u001b[1;33m\u001b[0m\u001b[0m\n\u001b[0;32m      4\u001b[0m \u001b[1;31m# get output as price in rupees [1 dollar = 76 rupees]\u001b[0m\u001b[1;33m\u001b[0m\u001b[1;33m\u001b[0m\u001b[0m\n\u001b[1;32m----> 5\u001b[1;33m \u001b[0mprint\u001b[0m\u001b[1;33m(\u001b[0m\u001b[1;33m{\u001b[0m\u001b[0mgroceries\u001b[0m\u001b[1;33m.\u001b[0m\u001b[0mkeys\u001b[0m\u001b[1;33m(\u001b[0m\u001b[1;33m)\u001b[0m \u001b[1;33m:\u001b[0m \u001b[0mx\u001b[0m\u001b[1;33m*\u001b[0m\u001b[1;36m76\u001b[0m \u001b[1;32mfor\u001b[0m \u001b[0mx\u001b[0m \u001b[1;32min\u001b[0m \u001b[0mgroceries\u001b[0m\u001b[1;33m.\u001b[0m\u001b[0mvalues\u001b[0m\u001b[1;33m(\u001b[0m\u001b[1;33m)\u001b[0m\u001b[1;33m}\u001b[0m\u001b[1;33m)\u001b[0m\u001b[1;33m\u001b[0m\u001b[1;33m\u001b[0m\u001b[0m\n\u001b[0m",
      "\u001b[1;31mTypeError\u001b[0m: unhashable type: 'dict_keys'"
     ]
    }
   ],
   "source": [
    "# Exercise\n",
    "# groceries >> 'item':price(in dollars)\n",
    "groceries = {'milk':3, 'apples':5.5, 'bread':4}\n",
    "# get output as price in rupees [1 dollar = 76 rupees]\n",
    "print({groceries.keys() : x*76 for x in groceries.values()})"
   ]
  },
  {
   "cell_type": "code",
   "execution_count": 74,
   "id": "3d3e3e5f",
   "metadata": {},
   "outputs": [
    {
     "name": "stdout",
     "output_type": "stream",
     "text": [
      "fr\n",
      "en\n",
      "hi\n",
      "fr french\n",
      "en english\n",
      "hi hindi\n",
      "fr french\n",
      "en english\n",
      "hi hindi\n"
     ]
    }
   ],
   "source": [
    "lang = {'fr': 'french', 'en':'english', 'hi':'hindi'}\n",
    "for l in lang:\n",
    "    print(l)\n",
    "for l in lang:\n",
    "    print(l,lang[l])\n",
    "for key, value in lang.items():\n",
    "    print(key,value)"
   ]
  },
  {
   "cell_type": "code",
   "execution_count": 76,
   "id": "0c1b862a",
   "metadata": {},
   "outputs": [
    {
     "name": "stdout",
     "output_type": "stream",
     "text": [
      "{'milk': 228, 'apples': 418.0, 'bread': 304}\n"
     ]
    }
   ],
   "source": [
    "groceries = {'milk':3, 'apples':5.5, 'bread':4}\n",
    "print({key:value*76 for key, value in groceries.items()})"
   ]
  },
  {
   "cell_type": "code",
   "execution_count": 79,
   "id": "0115a720",
   "metadata": {},
   "outputs": [
    {
     "name": "stdout",
     "output_type": "stream",
     "text": [
      "{'milk': 228, 'apples': 418.0, 'bread': 304}\n"
     ]
    }
   ],
   "source": [
    "groceries = {'milk':3, 'apples':5.5, 'bread':4}\n",
    "print({key:value*76 for key, value in groceries.items() if len(groceries.keys())%2!=0})"
   ]
  },
  {
   "cell_type": "code",
   "execution_count": 5,
   "id": "4154a2d3",
   "metadata": {},
   "outputs": [
    {
     "ename": "TypeError",
     "evalue": "'tuple' object is not callable",
     "output_type": "error",
     "traceback": [
      "\u001b[1;31m---------------------------------------------------------------------------\u001b[0m",
      "\u001b[1;31mTypeError\u001b[0m                                 Traceback (most recent call last)",
      "\u001b[1;32m~\\AppData\\Local\\Temp/ipykernel_5892/993832345.py\u001b[0m in \u001b[0;36m<module>\u001b[1;34m\u001b[0m\n\u001b[0;32m      1\u001b[0m \u001b[0mnum\u001b[0m \u001b[1;33m=\u001b[0m \u001b[1;33m(\u001b[0m\u001b[1;32mlambda\u001b[0m \u001b[0mx\u001b[0m\u001b[1;33m:\u001b[0m \u001b[0mx\u001b[0m\u001b[1;33m%\u001b[0m\u001b[1;36m2\u001b[0m\u001b[1;33m==\u001b[0m\u001b[1;36m0\u001b[0m\u001b[1;33m,\u001b[0m \u001b[1;34m'even'\u001b[0m\u001b[1;33m,\u001b[0m  \u001b[1;34m'odd'\u001b[0m\u001b[1;33m)\u001b[0m\u001b[1;33m\u001b[0m\u001b[1;33m\u001b[0m\u001b[0m\n\u001b[1;32m----> 2\u001b[1;33m \u001b[0mnum\u001b[0m\u001b[1;33m(\u001b[0m\u001b[1;36m5\u001b[0m\u001b[1;33m)\u001b[0m\u001b[1;33m\u001b[0m\u001b[1;33m\u001b[0m\u001b[0m\n\u001b[0m",
      "\u001b[1;31mTypeError\u001b[0m: 'tuple' object is not callable"
     ]
    }
   ],
   "source": [
    "\n",
    "num = (lambda x: x%2==0, 'even',  'odd')\n",
    "num(5)"
   ]
  },
  {
   "cell_type": "code",
   "execution_count": 19,
   "id": "13acfd4a",
   "metadata": {},
   "outputs": [
    {
     "name": "stdout",
     "output_type": "stream",
     "text": [
      "['Mobile_Redmi', 'Mobile_Samsung', 'Mobile_Realme', 'Laptop_Dell', 'Laptop_HP', 'TV_Videocon', 'TV_Sony']\n"
     ]
    }
   ],
   "source": [
    "d = {'Mobile': ['Redmi', 'Samsung', 'Realme'],'Laptop': ['Dell', 'HP'],'TV': ['Videocon', 'Sony'] }\n",
    "final_list = []\n",
    "for keys in d.keys():\n",
    "    for word in d[keys]:\n",
    "        final_list.append(keys+ '_'+ word)\n",
    "print(final_list)"
   ]
  },
  {
   "cell_type": "code",
   "execution_count": null,
   "id": "7b8c998e",
   "metadata": {},
   "outputs": [],
   "source": [
    "#https://pynative.com/python-dictionaries/ refer to this link for more exercise.\n",
    "\n",
    "groceries = {'milk':3, 'apples':5.5, 'bread':4}\n",
    "len()"
   ]
  },
  {
   "cell_type": "code",
   "execution_count": 26,
   "id": "c69c18c5",
   "metadata": {},
   "outputs": [
    {
     "name": "stdout",
     "output_type": "stream",
     "text": [
      "True\n"
     ]
    }
   ],
   "source": [
    "x = '$yrr$ssrsr'\n",
    "d = {}\n",
    "for i in x:\n",
    "    if i not in d:\n",
    "        d[i] = 1\n",
    "    else:\n",
    "        d[i] = d[i]+1\n",
    "        \n",
    "vals = d.values()  \n",
    "n = len(d)\n",
    "def upgrad_string(vals):\n",
    "    for i in range (1,n+1):\n",
    "        if i not in vals:\n",
    "            return False\n",
    "    else:\n",
    "        return True\n",
    "print(upgrad_string(vals))"
   ]
  },
  {
   "cell_type": "code",
   "execution_count": 41,
   "id": "db6f8635",
   "metadata": {},
   "outputs": [
    {
     "name": "stdout",
     "output_type": "stream",
     "text": [
      "Yes\n"
     ]
    }
   ],
   "source": [
    "inp = '((()))'\n",
    "stack = []\n",
    "for i in inp:\n",
    "    if len(stack) == 0:\n",
    "        stack.append(i)\n",
    "    else:\n",
    "        if i == ')' and stack[-1] =='(':\n",
    "            stack.pop()\n",
    "        elif i == '}' and stack[-1] =='{':\n",
    "            stack.pop()\n",
    "        elif i == ']' and stack[-1] =='[':\n",
    "            stack.pop()   \n",
    "        else:\n",
    "            stack.append(i)\n",
    "if stack:\n",
    "    print('No')\n",
    "else:\n",
    "    print('Yes')\n",
    "        \n",
    "            \n",
    "        "
   ]
  },
  {
   "cell_type": "code",
   "execution_count": 43,
   "id": "94d9eeb8",
   "metadata": {},
   "outputs": [
    {
     "ename": "NameError",
     "evalue": "name 'numbers' is not defined",
     "output_type": "error",
     "traceback": [
      "\u001b[1;31m---------------------------------------------------------------------------\u001b[0m",
      "\u001b[1;31mNameError\u001b[0m                                 Traceback (most recent call last)",
      "\u001b[1;32m~\\AppData\\Local\\Temp/ipykernel_2148/2979011020.py\u001b[0m in \u001b[0;36m<module>\u001b[1;34m\u001b[0m\n\u001b[1;32m----> 1\u001b[1;33m \u001b[0mdoubled_odds\u001b[0m \u001b[1;33m=\u001b[0m \u001b[0mmap\u001b[0m\u001b[1;33m(\u001b[0m\u001b[1;32mlambda\u001b[0m \u001b[0mn\u001b[0m\u001b[1;33m:\u001b[0m \u001b[0mn\u001b[0m \u001b[1;33m*\u001b[0m \u001b[1;36m2\u001b[0m\u001b[1;33m,\u001b[0m \u001b[0mfilter\u001b[0m\u001b[1;33m(\u001b[0m\u001b[1;32mlambda\u001b[0m \u001b[0mn\u001b[0m\u001b[1;33m:\u001b[0m \u001b[0mn\u001b[0m \u001b[1;33m%\u001b[0m \u001b[1;36m2\u001b[0m \u001b[1;33m==\u001b[0m \u001b[1;36m1\u001b[0m\u001b[1;33m,\u001b[0m \u001b[0mnumbers\u001b[0m\u001b[1;33m)\u001b[0m\u001b[1;33m)\u001b[0m\u001b[1;33m\u001b[0m\u001b[1;33m\u001b[0m\u001b[0m\n\u001b[0m\u001b[0;32m      2\u001b[0m \u001b[0mdoubled_odds\u001b[0m \u001b[1;33m=\u001b[0m \u001b[1;33m[\u001b[0m\u001b[0mn\u001b[0m \u001b[1;33m*\u001b[0m \u001b[1;36m2\u001b[0m \u001b[1;32mfor\u001b[0m \u001b[0mn\u001b[0m \u001b[1;32min\u001b[0m \u001b[0mnumbers\u001b[0m \u001b[1;32mif\u001b[0m \u001b[0mn\u001b[0m \u001b[1;33m%\u001b[0m \u001b[1;36m2\u001b[0m \u001b[1;33m==\u001b[0m \u001b[1;36m1\u001b[0m\u001b[1;33m]\u001b[0m\u001b[1;33m\u001b[0m\u001b[1;33m\u001b[0m\u001b[0m\n",
      "\u001b[1;31mNameError\u001b[0m: name 'numbers' is not defined"
     ]
    }
   ],
   "source": [
    "doubled_odds = map(lambda n: n * 2, filter(lambda n: n % 2 == 1, numbers))\n",
    "doubled_odds = [n * 2 for n in numbers if n % 2 == 1]"
   ]
  },
  {
   "cell_type": "code",
   "execution_count": 30,
   "id": "c7e624e8",
   "metadata": {},
   "outputs": [
    {
     "name": "stdout",
     "output_type": "stream",
     "text": [
      "133 34\n",
      "144 12\n",
      "148 4\n",
      "149 2\n"
     ]
    }
   ],
   "source": [
    "\n",
    "#start writing your code here\n",
    "choc = 100\n",
    "wrap = choc\n",
    "choc = choc+wrap//3\n",
    "wrap = wrap//3 +wrap%3\n",
    "print(choc,wrap)\n",
    "choc = choc+wrap//3\n",
    "wrap = wrap//3 +wrap%3\n",
    "print(choc,wrap)\n",
    "choc = choc+wrap//3\n",
    "wrap = wrap//3 +wrap%3\n",
    "print(choc,wrap)\n",
    "choc = choc+wrap//3\n",
    "wrap = wrap//3 +wrap%3\n",
    "print(choc,wrap)"
   ]
  },
  {
   "cell_type": "code",
   "execution_count": null,
   "id": "2c7043da",
   "metadata": {},
   "outputs": [],
   "source": []
  },
  {
   "cell_type": "code",
   "execution_count": null,
   "id": "7a685dc0",
   "metadata": {},
   "outputs": [],
   "source": []
  },
  {
   "cell_type": "code",
   "execution_count": null,
   "id": "402e61c1",
   "metadata": {},
   "outputs": [],
   "source": []
  },
  {
   "cell_type": "code",
   "execution_count": null,
   "id": "7a40c37a",
   "metadata": {},
   "outputs": [],
   "source": []
  },
  {
   "cell_type": "code",
   "execution_count": null,
   "id": "091e7820",
   "metadata": {},
   "outputs": [],
   "source": []
  },
  {
   "cell_type": "code",
   "execution_count": null,
   "id": "bd561f14",
   "metadata": {},
   "outputs": [],
   "source": []
  },
  {
   "cell_type": "code",
   "execution_count": null,
   "id": "c9bf8389",
   "metadata": {},
   "outputs": [],
   "source": []
  },
  {
   "cell_type": "code",
   "execution_count": null,
   "id": "64aba2c0",
   "metadata": {},
   "outputs": [],
   "source": []
  },
  {
   "cell_type": "code",
   "execution_count": 5,
   "id": "f639eda6",
   "metadata": {},
   "outputs": [
    {
     "name": "stdout",
     "output_type": "stream",
     "text": [
      "Vikas\n"
     ]
    }
   ],
   "source": [
    "print(v)"
   ]
  },
  {
   "cell_type": "code",
   "execution_count": 11,
   "id": "3adac789",
   "metadata": {},
   "outputs": [
    {
     "name": "stdout",
     "output_type": "stream",
     "text": [
      "enter your age21\n"
     ]
    },
    {
     "data": {
      "text/plain": [
       "float"
      ]
     },
     "execution_count": 11,
     "metadata": {},
     "output_type": "execute_result"
    }
   ],
   "source": [
    "age= float(input('enter your age'))\n",
    "type(age)"
   ]
  },
  {
   "cell_type": "code",
   "execution_count": 4,
   "id": "d004f5f4",
   "metadata": {},
   "outputs": [
    {
     "name": "stdout",
     "output_type": "stream",
     "text": [
      "Vikas\n"
     ]
    }
   ],
   "source": [
    "print(v)"
   ]
  },
  {
   "cell_type": "code",
   "execution_count": 3,
   "id": "fcd16166",
   "metadata": {},
   "outputs": [],
   "source": [
    "v = 'Vikas'"
   ]
  },
  {
   "cell_type": "code",
   "execution_count": 2,
   "id": "4bf3b562",
   "metadata": {},
   "outputs": [
    {
     "ename": "NameError",
     "evalue": "name 'v' is not defined",
     "output_type": "error",
     "traceback": [
      "\u001b[1;31m---------------------------------------------------------------------------\u001b[0m",
      "\u001b[1;31mNameError\u001b[0m                                 Traceback (most recent call last)",
      "\u001b[1;32m~\\AppData\\Local\\Temp/ipykernel_5532/1609929102.py\u001b[0m in \u001b[0;36m<module>\u001b[1;34m\u001b[0m\n\u001b[1;32m----> 1\u001b[1;33m \u001b[0mprint\u001b[0m\u001b[1;33m(\u001b[0m\u001b[0mv\u001b[0m\u001b[1;33m)\u001b[0m\u001b[1;33m\u001b[0m\u001b[1;33m\u001b[0m\u001b[0m\n\u001b[0m",
      "\u001b[1;31mNameError\u001b[0m: name 'v' is not defined"
     ]
    }
   ],
   "source": []
  },
  {
   "cell_type": "markdown",
   "id": "f8063dcf",
   "metadata": {},
   "source": [
    "[12:38, 3/27/2022] +91 78382 85358: https://www.hackerrank.com/dashboard\n",
    "[12:39, 3/27/2022] +91 78382 85358: https://pynative.com/python-exercises-with-solutions/\n",
    "[12:39, 3/27/2022] +91 78382 85358: https://www.practicepython.org/\n",
    "[12:39, 3/27/2022] +91 78382 85358: https://codingbat.com/python\n",
    "[12:39, 3/27/2022] +91 78382 85358: https://py.checkio.org"
   ]
  },
  {
   "cell_type": "code",
   "execution_count": 12,
   "id": "05ba1b5c",
   "metadata": {},
   "outputs": [
    {
     "name": "stdout",
     "output_type": "stream",
     "text": [
      "enter coloryellow\n",
      "Wait\n"
     ]
    }
   ],
   "source": [
    "color = input('enter color')\n",
    "if color =='red':\n",
    "    print('Stop')\n",
    "elif color =='green':\n",
    "    print('Go')\n",
    "elif color == 'yellow':\n",
    "    print('Wait')\n",
    "else:\n",
    "    print('color not valid')\n",
    "\n"
   ]
  },
  {
   "cell_type": "markdown",
   "id": "5dcf32ba",
   "metadata": {},
   "source": [
    "https://docs.google.com/document/d/1bRLX9A0aEMvuXHS4GI34InMiVzq-UDte/edit?usp=sharing&ouid=107913414206413118057&rtpof=true&sd=true"
   ]
  },
  {
   "cell_type": "markdown",
   "id": "09c8a994",
   "metadata": {},
   "source": [
    "https://drive.google.com/file/d/1VtKHTrXmqW1s_qSvdKu1m6UjZKppgCP2/view?usp=sharing"
   ]
  }
 ],
 "metadata": {
  "kernelspec": {
   "display_name": "Python 3 (ipykernel)",
   "language": "python",
   "name": "python3"
  },
  "language_info": {
   "codemirror_mode": {
    "name": "ipython",
    "version": 3
   },
   "file_extension": ".py",
   "mimetype": "text/x-python",
   "name": "python",
   "nbconvert_exporter": "python",
   "pygments_lexer": "ipython3",
   "version": "3.9.7"
  }
 },
 "nbformat": 4,
 "nbformat_minor": 5
}
